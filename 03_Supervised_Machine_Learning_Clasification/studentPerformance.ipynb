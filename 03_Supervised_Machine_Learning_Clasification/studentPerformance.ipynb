{
 "cells": [
  {
   "cell_type": "markdown",
   "metadata": {},
   "source": [
    "# Make the imports\n",
    "set the importations "
   ]
  },
  {
   "cell_type": "code",
   "execution_count": 1,
   "metadata": {},
   "outputs": [],
   "source": [
    "## imports\n",
    "import warnings \n",
    "warnings.filterwarnings('ignore')\n",
    "\n",
    "import skillsnetwork\n",
    "import pandas as pd\n",
    "import numpy as np \n",
    "\n",
    "import seaborn as sns \n",
    "import matplotlib.pylab as plt\n",
    "from sklearn.preprocessing import LabelEncoder"
   ]
  },
  {
   "cell_type": "markdown",
   "metadata": {},
   "source": [
    "# Load the data\n",
    "\n",
    "Read the data and show the head"
   ]
  },
  {
   "cell_type": "code",
   "execution_count": 2,
   "metadata": {},
   "outputs": [
    {
     "data": {
      "application/vnd.jupyter.widget-view+json": {
       "model_id": "774865a1e6d54e0b90b0a4c45b2d2a6c",
       "version_major": 2,
       "version_minor": 0
      },
      "text/plain": [
       "Downloading ETKYqjlGxDtAv7JIexnP0VkBOnvsLBR9ip6KNaVQsvUflg:   0%|          | 0/43973 [00:00<?, ?it/s]"
      ]
     },
     "metadata": {},
     "output_type": "display_data"
    },
    {
     "name": "stdout",
     "output_type": "stream",
     "text": [
      "Saved as 'ETKYqjlGxDtAv7JIexnP0VkBOnvsLBR9ip6KNaVQsvUflg'\n"
     ]
    },
    {
     "data": {
      "text/html": [
       "<div>\n",
       "<style scoped>\n",
       "    .dataframe tbody tr th:only-of-type {\n",
       "        vertical-align: middle;\n",
       "    }\n",
       "\n",
       "    .dataframe tbody tr th {\n",
       "        vertical-align: top;\n",
       "    }\n",
       "\n",
       "    .dataframe thead th {\n",
       "        text-align: right;\n",
       "    }\n",
       "</style>\n",
       "<table border=\"1\" class=\"dataframe\">\n",
       "  <thead>\n",
       "    <tr style=\"text-align: right;\">\n",
       "      <th></th>\n",
       "      <th>gender</th>\n",
       "      <th>age</th>\n",
       "      <th>civilStatus</th>\n",
       "      <th>childrens</th>\n",
       "      <th>district</th>\n",
       "      <th>health</th>\n",
       "      <th>closeFriends</th>\n",
       "      <th>work</th>\n",
       "      <th>workHoursWeek</th>\n",
       "      <th>familyMembers</th>\n",
       "      <th>...</th>\n",
       "      <th>universitySelectionReazon</th>\n",
       "      <th>minToTravel</th>\n",
       "      <th>weekStudyTime</th>\n",
       "      <th>failCourses</th>\n",
       "      <th>AsistancePercentage</th>\n",
       "      <th>midterExam</th>\n",
       "      <th>finalExam</th>\n",
       "      <th>practiceGrade</th>\n",
       "      <th>FinalGrade</th>\n",
       "      <th>StudentPerformance</th>\n",
       "    </tr>\n",
       "  </thead>\n",
       "  <tbody>\n",
       "    <tr>\n",
       "      <th>0</th>\n",
       "      <td>Hombre</td>\n",
       "      <td>19</td>\n",
       "      <td>Sin Pareja</td>\n",
       "      <td>0</td>\n",
       "      <td>Lima Norte</td>\n",
       "      <td>Regular</td>\n",
       "      <td>3</td>\n",
       "      <td>No</td>\n",
       "      <td>4</td>\n",
       "      <td>3</td>\n",
       "      <td>...</td>\n",
       "      <td>Cercania</td>\n",
       "      <td>15.0</td>\n",
       "      <td>2.0</td>\n",
       "      <td>1</td>\n",
       "      <td>90</td>\n",
       "      <td>14</td>\n",
       "      <td>12</td>\n",
       "      <td>13.0</td>\n",
       "      <td>13.000000</td>\n",
       "      <td>Low</td>\n",
       "    </tr>\n",
       "    <tr>\n",
       "      <th>1</th>\n",
       "      <td>Hombre</td>\n",
       "      <td>22</td>\n",
       "      <td>Sin Pareja</td>\n",
       "      <td>0</td>\n",
       "      <td>Lima Norte</td>\n",
       "      <td>Bien</td>\n",
       "      <td>2</td>\n",
       "      <td>No</td>\n",
       "      <td>0</td>\n",
       "      <td>3</td>\n",
       "      <td>...</td>\n",
       "      <td>Preferida</td>\n",
       "      <td>30.0</td>\n",
       "      <td>8.0</td>\n",
       "      <td>0</td>\n",
       "      <td>100</td>\n",
       "      <td>16</td>\n",
       "      <td>17</td>\n",
       "      <td>16.0</td>\n",
       "      <td>16.333333</td>\n",
       "      <td>Medium</td>\n",
       "    </tr>\n",
       "    <tr>\n",
       "      <th>2</th>\n",
       "      <td>Mujer</td>\n",
       "      <td>24</td>\n",
       "      <td>Sin Pareja</td>\n",
       "      <td>0</td>\n",
       "      <td>Callao</td>\n",
       "      <td>Mal</td>\n",
       "      <td>5</td>\n",
       "      <td>Si</td>\n",
       "      <td>48</td>\n",
       "      <td>4</td>\n",
       "      <td>...</td>\n",
       "      <td>Preferida</td>\n",
       "      <td>45.0</td>\n",
       "      <td>0.0</td>\n",
       "      <td>0</td>\n",
       "      <td>80</td>\n",
       "      <td>15</td>\n",
       "      <td>15</td>\n",
       "      <td>16.0</td>\n",
       "      <td>15.333333</td>\n",
       "      <td>Medium</td>\n",
       "    </tr>\n",
       "    <tr>\n",
       "      <th>3</th>\n",
       "      <td>Hombre</td>\n",
       "      <td>19</td>\n",
       "      <td>Sin Pareja</td>\n",
       "      <td>0</td>\n",
       "      <td>Lima Cercado</td>\n",
       "      <td>Bien</td>\n",
       "      <td>30</td>\n",
       "      <td>Si</td>\n",
       "      <td>40</td>\n",
       "      <td>25</td>\n",
       "      <td>...</td>\n",
       "      <td>Cercania</td>\n",
       "      <td>20.0</td>\n",
       "      <td>3.0</td>\n",
       "      <td>0</td>\n",
       "      <td>100</td>\n",
       "      <td>15</td>\n",
       "      <td>15</td>\n",
       "      <td>14.0</td>\n",
       "      <td>14.666667</td>\n",
       "      <td>Medium</td>\n",
       "    </tr>\n",
       "    <tr>\n",
       "      <th>4</th>\n",
       "      <td>Hombre</td>\n",
       "      <td>20</td>\n",
       "      <td>Sin Pareja</td>\n",
       "      <td>0</td>\n",
       "      <td>Lima Norte</td>\n",
       "      <td>Bien</td>\n",
       "      <td>4</td>\n",
       "      <td>Si</td>\n",
       "      <td>25</td>\n",
       "      <td>5</td>\n",
       "      <td>...</td>\n",
       "      <td>Preferida</td>\n",
       "      <td>50.0</td>\n",
       "      <td>5.0</td>\n",
       "      <td>2</td>\n",
       "      <td>100</td>\n",
       "      <td>14</td>\n",
       "      <td>14</td>\n",
       "      <td>14.0</td>\n",
       "      <td>14.000000</td>\n",
       "      <td>Medium</td>\n",
       "    </tr>\n",
       "  </tbody>\n",
       "</table>\n",
       "<p>5 rows × 28 columns</p>\n",
       "</div>"
      ],
      "text/plain": [
       "   gender  age civilStatus  childrens      district   health  closeFriends  \\\n",
       "0  Hombre   19  Sin Pareja          0    Lima Norte  Regular             3   \n",
       "1  Hombre   22  Sin Pareja          0    Lima Norte     Bien             2   \n",
       "2   Mujer   24  Sin Pareja          0        Callao      Mal             5   \n",
       "3  Hombre   19  Sin Pareja          0  Lima Cercado     Bien            30   \n",
       "4  Hombre   20  Sin Pareja          0    Lima Norte     Bien             4   \n",
       "\n",
       "  work  workHoursWeek  familyMembers  ... universitySelectionReazon  \\\n",
       "0   No              4              3  ...                  Cercania   \n",
       "1   No              0              3  ...                 Preferida   \n",
       "2   Si             48              4  ...                 Preferida   \n",
       "3   Si             40             25  ...                  Cercania   \n",
       "4   Si             25              5  ...                 Preferida   \n",
       "\n",
       "  minToTravel weekStudyTime failCourses AsistancePercentage midterExam  \\\n",
       "0        15.0           2.0           1                  90         14   \n",
       "1        30.0           8.0           0                 100         16   \n",
       "2        45.0           0.0           0                  80         15   \n",
       "3        20.0           3.0           0                 100         15   \n",
       "4        50.0           5.0           2                 100         14   \n",
       "\n",
       "  finalExam  practiceGrade FinalGrade  StudentPerformance  \n",
       "0        12           13.0  13.000000                 Low  \n",
       "1        17           16.0  16.333333              Medium  \n",
       "2        15           16.0  15.333333              Medium  \n",
       "3        15           14.0  14.666667              Medium  \n",
       "4        14           14.0  14.000000              Medium  \n",
       "\n",
       "[5 rows x 28 columns]"
      ]
     },
     "execution_count": 2,
     "metadata": {},
     "output_type": "execute_result"
    }
   ],
   "source": [
    "## Load the data of rendimientoAcademico\n",
    "URL = 'https://upcedupe-my.sharepoint.com/:x:/g/personal/e201210223_upc_edu_pe/ETKYqjlGxDtAv7JIexnP0VkBOnvsLBR9ip6KNaVQsvUflg?e=Z3QbqW'\n",
    "\n",
    "await skillsnetwork.download_dataset(URL)\n",
    "academic = pd.read_csv('rendimientoAcademico.csv', sep=';')\n",
    "\n",
    "academic.head(5)"
   ]
  },
  {
   "cell_type": "markdown",
   "metadata": {},
   "source": [
    "# Cleanning and feature ingeeniering\n",
    "lets see more info about the dataset"
   ]
  },
  {
   "cell_type": "code",
   "execution_count": 3,
   "metadata": {},
   "outputs": [
    {
     "name": "stdout",
     "output_type": "stream",
     "text": [
      "<class 'pandas.core.frame.DataFrame'>\n",
      "RangeIndex: 327 entries, 0 to 326\n",
      "Data columns (total 28 columns):\n",
      " #   Column                     Non-Null Count  Dtype  \n",
      "---  ------                     --------------  -----  \n",
      " 0   gender                     327 non-null    object \n",
      " 1   age                        327 non-null    int64  \n",
      " 2   civilStatus                327 non-null    object \n",
      " 3   childrens                  327 non-null    int64  \n",
      " 4   district                   327 non-null    object \n",
      " 5   health                     327 non-null    object \n",
      " 6   closeFriends               327 non-null    int64  \n",
      " 7   work                       327 non-null    object \n",
      " 8   workHoursWeek              327 non-null    int64  \n",
      " 9   familyMembers              327 non-null    int64  \n",
      " 10  familiarIncome             327 non-null    object \n",
      " 11  fatherStudy                327 non-null    object \n",
      " 12  motherStudy                327 non-null    object \n",
      " 13  university                 327 non-null    object \n",
      " 14  typeExam                   327 non-null    object \n",
      " 15  elementarySchool           327 non-null    object \n",
      " 16  profession                 327 non-null    object \n",
      " 17  yearStudy                  327 non-null    int64  \n",
      " 18  universitySelectionReazon  327 non-null    object \n",
      " 19  minToTravel                327 non-null    float64\n",
      " 20  weekStudyTime              327 non-null    float64\n",
      " 21  failCourses                327 non-null    int64  \n",
      " 22  AsistancePercentage        327 non-null    int64  \n",
      " 23  midterExam                 327 non-null    int64  \n",
      " 24  finalExam                  327 non-null    int64  \n",
      " 25  practiceGrade              327 non-null    float64\n",
      " 26  FinalGrade                 327 non-null    float64\n",
      " 27  StudentPerformance         327 non-null    object \n",
      "dtypes: float64(4), int64(10), object(14)\n",
      "memory usage: 71.7+ KB\n"
     ]
    }
   ],
   "source": [
    "academic.info()"
   ]
  },
  {
   "cell_type": "markdown",
   "metadata": {},
   "source": [
    "the dataset has severals columns, some of then are objects so they shoud be transform in categorial ones.\n",
    "the next code is to see if there are null values apparently by the info above there is not but lets check again."
   ]
  },
  {
   "cell_type": "code",
   "execution_count": 4,
   "metadata": {},
   "outputs": [
    {
     "data": {
      "text/plain": [
       "Text(0.5, 1.0, 'Total Missing Values')"
      ]
     },
     "execution_count": 4,
     "metadata": {},
     "output_type": "execute_result"
    },
    {
     "data": {
      "image/png": "[encoded data removed]",
      "text/plain": [
       "<Figure size 576x432 with 1 Axes>"
      ]
     },
     "metadata": {
      "needs_background": "light"
     },
     "output_type": "display_data"
    }
   ],
   "source": [
    "total = academic.isnull().sum().sort_values(ascending=False)\n",
    "total_select = total.head(20)\n",
    "total_select.plot(kind=\"bar\", figsize = (8,6), fontsize = 10)\n",
    "\n",
    "plt.xlabel(\"Columns\", fontsize = 20)\n",
    "plt.ylabel(\"Count\", fontsize = 20)\n",
    "plt.title(\"Total Missing Values\", fontsize = 20)"
   ]
  },
  {
   "cell_type": "markdown",
   "metadata": {},
   "source": [
    "The plot shows that there is no missing values to validate\n",
    "\n",
    "many columns are strings needs to be convert into categorical numerical values"
   ]
  },
  {
   "cell_type": "code",
   "execution_count": 5,
   "metadata": {},
   "outputs": [
    {
     "data": {
      "text/html": [
       "<div>\n",
       "<style scoped>\n",
       "    .dataframe tbody tr th:only-of-type {\n",
       "        vertical-align: middle;\n",
       "    }\n",
       "\n",
       "    .dataframe tbody tr th {\n",
       "        vertical-align: top;\n",
       "    }\n",
       "\n",
       "    .dataframe thead th {\n",
       "        text-align: right;\n",
       "    }\n",
       "</style>\n",
       "<table border=\"1\" class=\"dataframe\">\n",
       "  <thead>\n",
       "    <tr style=\"text-align: right;\">\n",
       "      <th></th>\n",
       "      <th>Unique Values</th>\n",
       "    </tr>\n",
       "    <tr>\n",
       "      <th>Variable</th>\n",
       "      <th></th>\n",
       "    </tr>\n",
       "  </thead>\n",
       "  <tbody>\n",
       "    <tr>\n",
       "      <th>gender</th>\n",
       "      <td>2</td>\n",
       "    </tr>\n",
       "    <tr>\n",
       "      <th>age</th>\n",
       "      <td>39</td>\n",
       "    </tr>\n",
       "    <tr>\n",
       "      <th>civilStatus</th>\n",
       "      <td>2</td>\n",
       "    </tr>\n",
       "    <tr>\n",
       "      <th>childrens</th>\n",
       "      <td>4</td>\n",
       "    </tr>\n",
       "    <tr>\n",
       "      <th>district</th>\n",
       "      <td>4</td>\n",
       "    </tr>\n",
       "    <tr>\n",
       "      <th>health</th>\n",
       "      <td>3</td>\n",
       "    </tr>\n",
       "    <tr>\n",
       "      <th>closeFriends</th>\n",
       "      <td>19</td>\n",
       "    </tr>\n",
       "    <tr>\n",
       "      <th>work</th>\n",
       "      <td>2</td>\n",
       "    </tr>\n",
       "    <tr>\n",
       "      <th>workHoursWeek</th>\n",
       "      <td>40</td>\n",
       "    </tr>\n",
       "    <tr>\n",
       "      <th>familyMembers</th>\n",
       "      <td>15</td>\n",
       "    </tr>\n",
       "    <tr>\n",
       "      <th>familiarIncome</th>\n",
       "      <td>3</td>\n",
       "    </tr>\n",
       "    <tr>\n",
       "      <th>fatherStudy</th>\n",
       "      <td>2</td>\n",
       "    </tr>\n",
       "    <tr>\n",
       "      <th>motherStudy</th>\n",
       "      <td>2</td>\n",
       "    </tr>\n",
       "    <tr>\n",
       "      <th>university</th>\n",
       "      <td>2</td>\n",
       "    </tr>\n",
       "    <tr>\n",
       "      <th>typeExam</th>\n",
       "      <td>2</td>\n",
       "    </tr>\n",
       "    <tr>\n",
       "      <th>elementarySchool</th>\n",
       "      <td>2</td>\n",
       "    </tr>\n",
       "    <tr>\n",
       "      <th>profession</th>\n",
       "      <td>4</td>\n",
       "    </tr>\n",
       "    <tr>\n",
       "      <th>yearStudy</th>\n",
       "      <td>5</td>\n",
       "    </tr>\n",
       "    <tr>\n",
       "      <th>universitySelectionReazon</th>\n",
       "      <td>4</td>\n",
       "    </tr>\n",
       "    <tr>\n",
       "      <th>minToTravel</th>\n",
       "      <td>37</td>\n",
       "    </tr>\n",
       "    <tr>\n",
       "      <th>weekStudyTime</th>\n",
       "      <td>34</td>\n",
       "    </tr>\n",
       "    <tr>\n",
       "      <th>failCourses</th>\n",
       "      <td>12</td>\n",
       "    </tr>\n",
       "    <tr>\n",
       "      <th>AsistancePercentage</th>\n",
       "      <td>20</td>\n",
       "    </tr>\n",
       "    <tr>\n",
       "      <th>midterExam</th>\n",
       "      <td>12</td>\n",
       "    </tr>\n",
       "    <tr>\n",
       "      <th>finalExam</th>\n",
       "      <td>10</td>\n",
       "    </tr>\n",
       "    <tr>\n",
       "      <th>practiceGrade</th>\n",
       "      <td>13</td>\n",
       "    </tr>\n",
       "    <tr>\n",
       "      <th>FinalGrade</th>\n",
       "      <td>29</td>\n",
       "    </tr>\n",
       "    <tr>\n",
       "      <th>StudentPerformance</th>\n",
       "      <td>3</td>\n",
       "    </tr>\n",
       "  </tbody>\n",
       "</table>\n",
       "</div>"
      ],
      "text/plain": [
       "                           Unique Values\n",
       "Variable                                \n",
       "gender                                 2\n",
       "age                                   39\n",
       "civilStatus                            2\n",
       "childrens                              4\n",
       "district                               4\n",
       "health                                 3\n",
       "closeFriends                          19\n",
       "work                                   2\n",
       "workHoursWeek                         40\n",
       "familyMembers                         15\n",
       "familiarIncome                         3\n",
       "fatherStudy                            2\n",
       "motherStudy                            2\n",
       "university                             2\n",
       "typeExam                               2\n",
       "elementarySchool                       2\n",
       "profession                             4\n",
       "yearStudy                              5\n",
       "universitySelectionReazon              4\n",
       "minToTravel                           37\n",
       "weekStudyTime                         34\n",
       "failCourses                           12\n",
       "AsistancePercentage                   20\n",
       "midterExam                            12\n",
       "finalExam                             10\n",
       "practiceGrade                         13\n",
       "FinalGrade                            29\n",
       "StudentPerformance                     3"
      ]
     },
     "execution_count": 5,
     "metadata": {},
     "output_type": "execute_result"
    }
   ],
   "source": [
    "df_uniques = pd.DataFrame([[i, len(academic[i].unique())] for i in academic.columns], columns=['Variable', 'Unique Values']).set_index('Variable')\n",
    "df_uniques"
   ]
  },
  {
   "cell_type": "code",
   "execution_count": 6,
   "metadata": {},
   "outputs": [
    {
     "data": {
      "text/plain": [
       "['gender',\n",
       " 'civilStatus',\n",
       " 'work',\n",
       " 'fatherStudy',\n",
       " 'motherStudy',\n",
       " 'university',\n",
       " 'typeExam',\n",
       " 'elementarySchool']"
      ]
     },
     "execution_count": 6,
     "metadata": {},
     "output_type": "execute_result"
    }
   ],
   "source": [
    "binary_variables = list(df_uniques[df_uniques['Unique Values'] == 2].index)\n",
    "binary_variables"
   ]
  },
  {
   "cell_type": "code",
   "execution_count": 7,
   "metadata": {},
   "outputs": [
    {
     "data": {
      "text/plain": [
       "[['gender', ['Hombre', 'Mujer']],\n",
       " ['civilStatus', ['Sin Pareja', 'Con Pareja']],\n",
       " ['work', ['No', 'Si']],\n",
       " ['fatherStudy', ['Profesional', 'No Profesional']],\n",
       " ['motherStudy', ['Profesional', 'No Profesional']],\n",
       " ['university', ['Particular', 'Nacional']],\n",
       " ['typeExam', ['Examen ordinario', 'Examen Especial']],\n",
       " ['elementarySchool', ['Particular', 'Nacional']]]"
      ]
     },
     "execution_count": 7,
     "metadata": {},
     "output_type": "execute_result"
    }
   ],
   "source": [
    "[[i, list(academic[i].unique())] for i in binary_variables]"
   ]
  },
  {
   "cell_type": "code",
   "execution_count": 8,
   "metadata": {},
   "outputs": [
    {
     "data": {
      "text/plain": [
       "['childrens',\n",
       " 'district',\n",
       " 'health',\n",
       " 'familiarIncome',\n",
       " 'profession',\n",
       " 'yearStudy',\n",
       " 'universitySelectionReazon',\n",
       " 'StudentPerformance']"
      ]
     },
     "execution_count": 8,
     "metadata": {},
     "output_type": "execute_result"
    }
   ],
   "source": [
    "categorical_variables = list(df_uniques[(6 >= df_uniques['Unique Values']) & (df_uniques['Unique Values'] > 2)].index)\n",
    "categorical_variables"
   ]
  },
  {
   "cell_type": "code",
   "execution_count": 9,
   "metadata": {},
   "outputs": [
    {
     "data": {
      "text/plain": [
       "[['childrens', [0, 1, 2, 3]],\n",
       " ['district', ['Lima Norte', 'Callao', 'Lima Cercado', 'Lima Sur']],\n",
       " ['health', ['Regular', 'Bien', 'Mal']],\n",
       " ['familiarIncome', ['Medio', 'Bajo', 'Alto']],\n",
       " ['profession', ['Ingenieria', 'Letras', 'Administracion', 'ADMINISTRACION']],\n",
       " ['yearStudy', [2, 3, 5, 4, 1]],\n",
       " ['universitySelectionReazon',\n",
       "  ['Cercania', 'Preferida', 'Costos', 'Beneficios']],\n",
       " ['StudentPerformance', ['Low', 'Medium', 'High']]]"
      ]
     },
     "execution_count": 9,
     "metadata": {},
     "output_type": "execute_result"
    }
   ],
   "source": [
    "[[i, list(academic[i].unique())] for i in categorical_variables]"
   ]
  },
  {
   "cell_type": "code",
   "execution_count": 10,
   "metadata": {},
   "outputs": [],
   "source": [
    "ordinal_variables = ['district', 'health','familiarIncome','profession','universitySelectionReazon','StudentPerformance']"
   ]
  },
  {
   "cell_type": "code",
   "execution_count": 11,
   "metadata": {},
   "outputs": [
    {
     "data": {
      "text/plain": [
       "['weekStudyTime',\n",
       " 'FinalGrade',\n",
       " 'closeFriends',\n",
       " 'minToTravel',\n",
       " 'midterExam',\n",
       " 'practiceGrade',\n",
       " 'childrens',\n",
       " 'familyMembers',\n",
       " 'yearStudy',\n",
       " 'AsistancePercentage',\n",
       " 'workHoursWeek',\n",
       " 'age',\n",
       " 'finalExam',\n",
       " 'failCourses']"
      ]
     },
     "execution_count": 11,
     "metadata": {},
     "output_type": "execute_result"
    }
   ],
   "source": [
    "numeric_variables = list(set(academic.columns) - set(ordinal_variables)  - set(binary_variables))\n",
    "numeric_variables"
   ]
  },
  {
   "cell_type": "code",
   "execution_count": 12,
   "metadata": {},
   "outputs": [
    {
     "data": {
      "text/plain": [
       "array([[<AxesSubplot:title={'center':'weekStudyTime'}>,\n",
       "        <AxesSubplot:title={'center':'FinalGrade'}>,\n",
       "        <AxesSubplot:title={'center':'closeFriends'}>,\n",
       "        <AxesSubplot:title={'center':'minToTravel'}>],\n",
       "       [<AxesSubplot:title={'center':'midterExam'}>,\n",
       "        <AxesSubplot:title={'center':'practiceGrade'}>,\n",
       "        <AxesSubplot:title={'center':'childrens'}>,\n",
       "        <AxesSubplot:title={'center':'familyMembers'}>],\n",
       "       [<AxesSubplot:title={'center':'yearStudy'}>,\n",
       "        <AxesSubplot:title={'center':'AsistancePercentage'}>,\n",
       "        <AxesSubplot:title={'center':'workHoursWeek'}>,\n",
       "        <AxesSubplot:title={'center':'age'}>],\n",
       "       [<AxesSubplot:title={'center':'finalExam'}>,\n",
       "        <AxesSubplot:title={'center':'failCourses'}>, <AxesSubplot:>,\n",
       "        <AxesSubplot:>]], dtype=object)"
      ]
     },
     "execution_count": 12,
     "metadata": {},
     "output_type": "execute_result"
    },
    {
     "data": {
      "image/png": "[encoded data removed]",
      "text/plain": [
       "<Figure size 864x864 with 16 Axes>"
      ]
     },
     "metadata": {
      "needs_background": "light"
     },
     "output_type": "display_data"
    }
   ],
   "source": [
    "academic[numeric_variables].hist(figsize=(12, 12))\n"
   ]
  },
  {
   "cell_type": "code",
   "execution_count": 13,
   "metadata": {},
   "outputs": [
    {
     "data": {
      "text/plain": [
       "['elementarySchool',\n",
       " 'district',\n",
       " 'civilStatus',\n",
       " 'familiarIncome',\n",
       " 'work',\n",
       " 'typeExam',\n",
       " 'motherStudy',\n",
       " 'StudentPerformance',\n",
       " 'profession',\n",
       " 'universitySelectionReazon',\n",
       " 'health',\n",
       " 'fatherStudy',\n",
       " 'gender',\n",
       " 'university']"
      ]
     },
     "execution_count": 13,
     "metadata": {},
     "output_type": "execute_result"
    }
   ],
   "source": [
    "string_variables = list(set(academic.columns) - set(numeric_variables))\n",
    "string_variables"
   ]
  },
  {
   "cell_type": "code",
   "execution_count": 14,
   "metadata": {},
   "outputs": [
    {
     "data": {
      "text/plain": [
       "[['elementarySchool', ['Particular', 'Nacional']],\n",
       " ['district', ['Lima Norte', 'Callao', 'Lima Cercado', 'Lima Sur']],\n",
       " ['civilStatus', ['Sin Pareja', 'Con Pareja']],\n",
       " ['familiarIncome', ['Medio', 'Bajo', 'Alto']],\n",
       " ['work', ['No', 'Si']],\n",
       " ['typeExam', ['Examen ordinario', 'Examen Especial']],\n",
       " ['motherStudy', ['Profesional', 'No Profesional']],\n",
       " ['StudentPerformance', ['Low', 'Medium', 'High']],\n",
       " ['profession', ['Ingenieria', 'Letras', 'Administracion', 'ADMINISTRACION']],\n",
       " ['universitySelectionReazon',\n",
       "  ['Cercania', 'Preferida', 'Costos', 'Beneficios']],\n",
       " ['health', ['Regular', 'Bien', 'Mal']],\n",
       " ['fatherStudy', ['Profesional', 'No Profesional']],\n",
       " ['gender', ['Hombre', 'Mujer']],\n",
       " ['university', ['Particular', 'Nacional']]]"
      ]
     },
     "execution_count": 14,
     "metadata": {},
     "output_type": "execute_result"
    }
   ],
   "source": [
    "[[i, list(academic[i].unique())] for i in string_variables]"
   ]
  },
  {
   "cell_type": "code",
   "execution_count": 15,
   "metadata": {},
   "outputs": [],
   "source": [
    "le = LabelEncoder()\n",
    "for column in string_variables:\n",
    "    academic[column] = le.fit_transform(academic[column])"
   ]
  },
  {
   "cell_type": "code",
   "execution_count": 16,
   "metadata": {},
   "outputs": [
    {
     "data": {
      "text/html": [
       "<div>\n",
       "<style scoped>\n",
       "    .dataframe tbody tr th:only-of-type {\n",
       "        vertical-align: middle;\n",
       "    }\n",
       "\n",
       "    .dataframe tbody tr th {\n",
       "        vertical-align: top;\n",
       "    }\n",
       "\n",
       "    .dataframe thead th {\n",
       "        text-align: right;\n",
       "    }\n",
       "</style>\n",
       "<table border=\"1\" class=\"dataframe\">\n",
       "  <thead>\n",
       "    <tr style=\"text-align: right;\">\n",
       "      <th></th>\n",
       "      <th>gender</th>\n",
       "      <th>age</th>\n",
       "      <th>civilStatus</th>\n",
       "      <th>childrens</th>\n",
       "      <th>district</th>\n",
       "      <th>health</th>\n",
       "      <th>closeFriends</th>\n",
       "      <th>work</th>\n",
       "      <th>workHoursWeek</th>\n",
       "      <th>familyMembers</th>\n",
       "      <th>...</th>\n",
       "      <th>universitySelectionReazon</th>\n",
       "      <th>minToTravel</th>\n",
       "      <th>weekStudyTime</th>\n",
       "      <th>failCourses</th>\n",
       "      <th>AsistancePercentage</th>\n",
       "      <th>midterExam</th>\n",
       "      <th>finalExam</th>\n",
       "      <th>practiceGrade</th>\n",
       "      <th>FinalGrade</th>\n",
       "      <th>StudentPerformance</th>\n",
       "    </tr>\n",
       "  </thead>\n",
       "  <tbody>\n",
       "    <tr>\n",
       "      <th>0</th>\n",
       "      <td>0</td>\n",
       "      <td>19</td>\n",
       "      <td>1</td>\n",
       "      <td>0</td>\n",
       "      <td>2</td>\n",
       "      <td>2</td>\n",
       "      <td>3</td>\n",
       "      <td>0</td>\n",
       "      <td>4</td>\n",
       "      <td>3</td>\n",
       "      <td>...</td>\n",
       "      <td>1</td>\n",
       "      <td>15.0</td>\n",
       "      <td>2.0</td>\n",
       "      <td>1</td>\n",
       "      <td>90</td>\n",
       "      <td>14</td>\n",
       "      <td>12</td>\n",
       "      <td>13.0</td>\n",
       "      <td>13.000000</td>\n",
       "      <td>1</td>\n",
       "    </tr>\n",
       "    <tr>\n",
       "      <th>1</th>\n",
       "      <td>0</td>\n",
       "      <td>22</td>\n",
       "      <td>1</td>\n",
       "      <td>0</td>\n",
       "      <td>2</td>\n",
       "      <td>0</td>\n",
       "      <td>2</td>\n",
       "      <td>0</td>\n",
       "      <td>0</td>\n",
       "      <td>3</td>\n",
       "      <td>...</td>\n",
       "      <td>3</td>\n",
       "      <td>30.0</td>\n",
       "      <td>8.0</td>\n",
       "      <td>0</td>\n",
       "      <td>100</td>\n",
       "      <td>16</td>\n",
       "      <td>17</td>\n",
       "      <td>16.0</td>\n",
       "      <td>16.333333</td>\n",
       "      <td>2</td>\n",
       "    </tr>\n",
       "    <tr>\n",
       "      <th>2</th>\n",
       "      <td>1</td>\n",
       "      <td>24</td>\n",
       "      <td>1</td>\n",
       "      <td>0</td>\n",
       "      <td>0</td>\n",
       "      <td>1</td>\n",
       "      <td>5</td>\n",
       "      <td>1</td>\n",
       "      <td>48</td>\n",
       "      <td>4</td>\n",
       "      <td>...</td>\n",
       "      <td>3</td>\n",
       "      <td>45.0</td>\n",
       "      <td>0.0</td>\n",
       "      <td>0</td>\n",
       "      <td>80</td>\n",
       "      <td>15</td>\n",
       "      <td>15</td>\n",
       "      <td>16.0</td>\n",
       "      <td>15.333333</td>\n",
       "      <td>2</td>\n",
       "    </tr>\n",
       "    <tr>\n",
       "      <th>3</th>\n",
       "      <td>0</td>\n",
       "      <td>19</td>\n",
       "      <td>1</td>\n",
       "      <td>0</td>\n",
       "      <td>1</td>\n",
       "      <td>0</td>\n",
       "      <td>30</td>\n",
       "      <td>1</td>\n",
       "      <td>40</td>\n",
       "      <td>25</td>\n",
       "      <td>...</td>\n",
       "      <td>1</td>\n",
       "      <td>20.0</td>\n",
       "      <td>3.0</td>\n",
       "      <td>0</td>\n",
       "      <td>100</td>\n",
       "      <td>15</td>\n",
       "      <td>15</td>\n",
       "      <td>14.0</td>\n",
       "      <td>14.666667</td>\n",
       "      <td>2</td>\n",
       "    </tr>\n",
       "    <tr>\n",
       "      <th>4</th>\n",
       "      <td>0</td>\n",
       "      <td>20</td>\n",
       "      <td>1</td>\n",
       "      <td>0</td>\n",
       "      <td>2</td>\n",
       "      <td>0</td>\n",
       "      <td>4</td>\n",
       "      <td>1</td>\n",
       "      <td>25</td>\n",
       "      <td>5</td>\n",
       "      <td>...</td>\n",
       "      <td>3</td>\n",
       "      <td>50.0</td>\n",
       "      <td>5.0</td>\n",
       "      <td>2</td>\n",
       "      <td>100</td>\n",
       "      <td>14</td>\n",
       "      <td>14</td>\n",
       "      <td>14.0</td>\n",
       "      <td>14.000000</td>\n",
       "      <td>2</td>\n",
       "    </tr>\n",
       "    <tr>\n",
       "      <th>...</th>\n",
       "      <td>...</td>\n",
       "      <td>...</td>\n",
       "      <td>...</td>\n",
       "      <td>...</td>\n",
       "      <td>...</td>\n",
       "      <td>...</td>\n",
       "      <td>...</td>\n",
       "      <td>...</td>\n",
       "      <td>...</td>\n",
       "      <td>...</td>\n",
       "      <td>...</td>\n",
       "      <td>...</td>\n",
       "      <td>...</td>\n",
       "      <td>...</td>\n",
       "      <td>...</td>\n",
       "      <td>...</td>\n",
       "      <td>...</td>\n",
       "      <td>...</td>\n",
       "      <td>...</td>\n",
       "      <td>...</td>\n",
       "      <td>...</td>\n",
       "    </tr>\n",
       "    <tr>\n",
       "      <th>322</th>\n",
       "      <td>0</td>\n",
       "      <td>32</td>\n",
       "      <td>1</td>\n",
       "      <td>0</td>\n",
       "      <td>3</td>\n",
       "      <td>0</td>\n",
       "      <td>2</td>\n",
       "      <td>1</td>\n",
       "      <td>42</td>\n",
       "      <td>3</td>\n",
       "      <td>...</td>\n",
       "      <td>3</td>\n",
       "      <td>120.0</td>\n",
       "      <td>4.0</td>\n",
       "      <td>0</td>\n",
       "      <td>98</td>\n",
       "      <td>15</td>\n",
       "      <td>16</td>\n",
       "      <td>15.0</td>\n",
       "      <td>15.333333</td>\n",
       "      <td>2</td>\n",
       "    </tr>\n",
       "    <tr>\n",
       "      <th>323</th>\n",
       "      <td>0</td>\n",
       "      <td>24</td>\n",
       "      <td>1</td>\n",
       "      <td>0</td>\n",
       "      <td>1</td>\n",
       "      <td>0</td>\n",
       "      <td>2</td>\n",
       "      <td>1</td>\n",
       "      <td>52</td>\n",
       "      <td>6</td>\n",
       "      <td>...</td>\n",
       "      <td>3</td>\n",
       "      <td>90.0</td>\n",
       "      <td>80.0</td>\n",
       "      <td>0</td>\n",
       "      <td>100</td>\n",
       "      <td>15</td>\n",
       "      <td>14</td>\n",
       "      <td>16.0</td>\n",
       "      <td>15.000000</td>\n",
       "      <td>2</td>\n",
       "    </tr>\n",
       "    <tr>\n",
       "      <th>324</th>\n",
       "      <td>0</td>\n",
       "      <td>29</td>\n",
       "      <td>1</td>\n",
       "      <td>0</td>\n",
       "      <td>2</td>\n",
       "      <td>0</td>\n",
       "      <td>25</td>\n",
       "      <td>1</td>\n",
       "      <td>48</td>\n",
       "      <td>5</td>\n",
       "      <td>...</td>\n",
       "      <td>3</td>\n",
       "      <td>25.0</td>\n",
       "      <td>5.0</td>\n",
       "      <td>0</td>\n",
       "      <td>90</td>\n",
       "      <td>17</td>\n",
       "      <td>18</td>\n",
       "      <td>17.0</td>\n",
       "      <td>17.333333</td>\n",
       "      <td>0</td>\n",
       "    </tr>\n",
       "    <tr>\n",
       "      <th>325</th>\n",
       "      <td>0</td>\n",
       "      <td>23</td>\n",
       "      <td>1</td>\n",
       "      <td>0</td>\n",
       "      <td>3</td>\n",
       "      <td>0</td>\n",
       "      <td>2</td>\n",
       "      <td>1</td>\n",
       "      <td>24</td>\n",
       "      <td>2</td>\n",
       "      <td>...</td>\n",
       "      <td>3</td>\n",
       "      <td>180.0</td>\n",
       "      <td>3.0</td>\n",
       "      <td>0</td>\n",
       "      <td>90</td>\n",
       "      <td>15</td>\n",
       "      <td>18</td>\n",
       "      <td>16.0</td>\n",
       "      <td>16.333333</td>\n",
       "      <td>2</td>\n",
       "    </tr>\n",
       "    <tr>\n",
       "      <th>326</th>\n",
       "      <td>0</td>\n",
       "      <td>29</td>\n",
       "      <td>1</td>\n",
       "      <td>0</td>\n",
       "      <td>0</td>\n",
       "      <td>0</td>\n",
       "      <td>2</td>\n",
       "      <td>1</td>\n",
       "      <td>48</td>\n",
       "      <td>5</td>\n",
       "      <td>...</td>\n",
       "      <td>1</td>\n",
       "      <td>1.0</td>\n",
       "      <td>6.0</td>\n",
       "      <td>0</td>\n",
       "      <td>90</td>\n",
       "      <td>18</td>\n",
       "      <td>17</td>\n",
       "      <td>18.0</td>\n",
       "      <td>17.666667</td>\n",
       "      <td>0</td>\n",
       "    </tr>\n",
       "  </tbody>\n",
       "</table>\n",
       "<p>327 rows × 28 columns</p>\n",
       "</div>"
      ],
      "text/plain": [
       "     gender  age  civilStatus  childrens  district  health  closeFriends  \\\n",
       "0         0   19            1          0         2       2             3   \n",
       "1         0   22            1          0         2       0             2   \n",
       "2         1   24            1          0         0       1             5   \n",
       "3         0   19            1          0         1       0            30   \n",
       "4         0   20            1          0         2       0             4   \n",
       "..      ...  ...          ...        ...       ...     ...           ...   \n",
       "322       0   32            1          0         3       0             2   \n",
       "323       0   24            1          0         1       0             2   \n",
       "324       0   29            1          0         2       0            25   \n",
       "325       0   23            1          0         3       0             2   \n",
       "326       0   29            1          0         0       0             2   \n",
       "\n",
       "     work  workHoursWeek  familyMembers  ...  universitySelectionReazon  \\\n",
       "0       0              4              3  ...                          1   \n",
       "1       0              0              3  ...                          3   \n",
       "2       1             48              4  ...                          3   \n",
       "3       1             40             25  ...                          1   \n",
       "4       1             25              5  ...                          3   \n",
       "..    ...            ...            ...  ...                        ...   \n",
       "322     1             42              3  ...                          3   \n",
       "323     1             52              6  ...                          3   \n",
       "324     1             48              5  ...                          3   \n",
       "325     1             24              2  ...                          3   \n",
       "326     1             48              5  ...                          1   \n",
       "\n",
       "     minToTravel  weekStudyTime  failCourses  AsistancePercentage  midterExam  \\\n",
       "0           15.0            2.0            1                   90          14   \n",
       "1           30.0            8.0            0                  100          16   \n",
       "2           45.0            0.0            0                   80          15   \n",
       "3           20.0            3.0            0                  100          15   \n",
       "4           50.0            5.0            2                  100          14   \n",
       "..           ...            ...          ...                  ...         ...   \n",
       "322        120.0            4.0            0                   98          15   \n",
       "323         90.0           80.0            0                  100          15   \n",
       "324         25.0            5.0            0                   90          17   \n",
       "325        180.0            3.0            0                   90          15   \n",
       "326          1.0            6.0            0                   90          18   \n",
       "\n",
       "     finalExam  practiceGrade  FinalGrade  StudentPerformance  \n",
       "0           12           13.0   13.000000                   1  \n",
       "1           17           16.0   16.333333                   2  \n",
       "2           15           16.0   15.333333                   2  \n",
       "3           15           14.0   14.666667                   2  \n",
       "4           14           14.0   14.000000                   2  \n",
       "..         ...            ...         ...                 ...  \n",
       "322         16           15.0   15.333333                   2  \n",
       "323         14           16.0   15.000000                   2  \n",
       "324         18           17.0   17.333333                   0  \n",
       "325         18           16.0   16.333333                   2  \n",
       "326         17           18.0   17.666667                   0  \n",
       "\n",
       "[327 rows x 28 columns]"
      ]
     },
     "execution_count": 16,
     "metadata": {},
     "output_type": "execute_result"
    }
   ],
   "source": [
    "academic"
   ]
  },
  {
   "cell_type": "code",
   "execution_count": 17,
   "metadata": {},
   "outputs": [
    {
     "data": {
      "text/html": [
       "<div>\n",
       "<style scoped>\n",
       "    .dataframe tbody tr th:only-of-type {\n",
       "        vertical-align: middle;\n",
       "    }\n",
       "\n",
       "    .dataframe tbody tr th {\n",
       "        vertical-align: top;\n",
       "    }\n",
       "\n",
       "    .dataframe thead th {\n",
       "        text-align: right;\n",
       "    }\n",
       "</style>\n",
       "<table border=\"1\" class=\"dataframe\">\n",
       "  <thead>\n",
       "    <tr style=\"text-align: right;\">\n",
       "      <th></th>\n",
       "      <th>count</th>\n",
       "      <th>mean</th>\n",
       "      <th>std</th>\n",
       "      <th>min</th>\n",
       "      <th>25%</th>\n",
       "      <th>50%</th>\n",
       "      <th>75%</th>\n",
       "      <th>max</th>\n",
       "    </tr>\n",
       "  </thead>\n",
       "  <tbody>\n",
       "    <tr>\n",
       "      <th>gender</th>\n",
       "      <td>327.0</td>\n",
       "      <td>0.207951</td>\n",
       "      <td>0.406464</td>\n",
       "      <td>0.000000</td>\n",
       "      <td>0.000000</td>\n",
       "      <td>0.000000</td>\n",
       "      <td>0.000000</td>\n",
       "      <td>1.0</td>\n",
       "    </tr>\n",
       "    <tr>\n",
       "      <th>age</th>\n",
       "      <td>327.0</td>\n",
       "      <td>27.562691</td>\n",
       "      <td>8.768401</td>\n",
       "      <td>17.000000</td>\n",
       "      <td>22.000000</td>\n",
       "      <td>24.000000</td>\n",
       "      <td>31.000000</td>\n",
       "      <td>59.0</td>\n",
       "    </tr>\n",
       "    <tr>\n",
       "      <th>civilStatus</th>\n",
       "      <td>327.0</td>\n",
       "      <td>0.666667</td>\n",
       "      <td>0.472127</td>\n",
       "      <td>0.000000</td>\n",
       "      <td>0.000000</td>\n",
       "      <td>1.000000</td>\n",
       "      <td>1.000000</td>\n",
       "      <td>1.0</td>\n",
       "    </tr>\n",
       "    <tr>\n",
       "      <th>childrens</th>\n",
       "      <td>327.0</td>\n",
       "      <td>0.397554</td>\n",
       "      <td>0.768071</td>\n",
       "      <td>0.000000</td>\n",
       "      <td>0.000000</td>\n",
       "      <td>0.000000</td>\n",
       "      <td>0.000000</td>\n",
       "      <td>3.0</td>\n",
       "    </tr>\n",
       "    <tr>\n",
       "      <th>district</th>\n",
       "      <td>327.0</td>\n",
       "      <td>1.822630</td>\n",
       "      <td>1.029790</td>\n",
       "      <td>0.000000</td>\n",
       "      <td>1.000000</td>\n",
       "      <td>2.000000</td>\n",
       "      <td>3.000000</td>\n",
       "      <td>3.0</td>\n",
       "    </tr>\n",
       "    <tr>\n",
       "      <th>health</th>\n",
       "      <td>327.0</td>\n",
       "      <td>0.464832</td>\n",
       "      <td>0.831411</td>\n",
       "      <td>0.000000</td>\n",
       "      <td>0.000000</td>\n",
       "      <td>0.000000</td>\n",
       "      <td>0.000000</td>\n",
       "      <td>2.0</td>\n",
       "    </tr>\n",
       "    <tr>\n",
       "      <th>closeFriends</th>\n",
       "      <td>327.0</td>\n",
       "      <td>6.770642</td>\n",
       "      <td>12.504453</td>\n",
       "      <td>0.000000</td>\n",
       "      <td>3.000000</td>\n",
       "      <td>4.000000</td>\n",
       "      <td>7.000000</td>\n",
       "      <td>200.0</td>\n",
       "    </tr>\n",
       "    <tr>\n",
       "      <th>work</th>\n",
       "      <td>327.0</td>\n",
       "      <td>0.675841</td>\n",
       "      <td>0.468777</td>\n",
       "      <td>0.000000</td>\n",
       "      <td>0.000000</td>\n",
       "      <td>1.000000</td>\n",
       "      <td>1.000000</td>\n",
       "      <td>1.0</td>\n",
       "    </tr>\n",
       "    <tr>\n",
       "      <th>workHoursWeek</th>\n",
       "      <td>327.0</td>\n",
       "      <td>27.073394</td>\n",
       "      <td>32.663005</td>\n",
       "      <td>0.000000</td>\n",
       "      <td>0.000000</td>\n",
       "      <td>30.000000</td>\n",
       "      <td>48.000000</td>\n",
       "      <td>453.0</td>\n",
       "    </tr>\n",
       "    <tr>\n",
       "      <th>familyMembers</th>\n",
       "      <td>327.0</td>\n",
       "      <td>5.152905</td>\n",
       "      <td>2.396543</td>\n",
       "      <td>2.000000</td>\n",
       "      <td>4.000000</td>\n",
       "      <td>5.000000</td>\n",
       "      <td>6.000000</td>\n",
       "      <td>25.0</td>\n",
       "    </tr>\n",
       "    <tr>\n",
       "      <th>familiarIncome</th>\n",
       "      <td>327.0</td>\n",
       "      <td>1.654434</td>\n",
       "      <td>0.507463</td>\n",
       "      <td>0.000000</td>\n",
       "      <td>1.000000</td>\n",
       "      <td>2.000000</td>\n",
       "      <td>2.000000</td>\n",
       "      <td>2.0</td>\n",
       "    </tr>\n",
       "    <tr>\n",
       "      <th>fatherStudy</th>\n",
       "      <td>327.0</td>\n",
       "      <td>0.492355</td>\n",
       "      <td>0.500708</td>\n",
       "      <td>0.000000</td>\n",
       "      <td>0.000000</td>\n",
       "      <td>0.000000</td>\n",
       "      <td>1.000000</td>\n",
       "      <td>1.0</td>\n",
       "    </tr>\n",
       "    <tr>\n",
       "      <th>motherStudy</th>\n",
       "      <td>327.0</td>\n",
       "      <td>0.345566</td>\n",
       "      <td>0.476281</td>\n",
       "      <td>0.000000</td>\n",
       "      <td>0.000000</td>\n",
       "      <td>0.000000</td>\n",
       "      <td>1.000000</td>\n",
       "      <td>1.0</td>\n",
       "    </tr>\n",
       "    <tr>\n",
       "      <th>university</th>\n",
       "      <td>327.0</td>\n",
       "      <td>0.388379</td>\n",
       "      <td>0.488129</td>\n",
       "      <td>0.000000</td>\n",
       "      <td>0.000000</td>\n",
       "      <td>0.000000</td>\n",
       "      <td>1.000000</td>\n",
       "      <td>1.0</td>\n",
       "    </tr>\n",
       "    <tr>\n",
       "      <th>typeExam</th>\n",
       "      <td>327.0</td>\n",
       "      <td>0.868502</td>\n",
       "      <td>0.338463</td>\n",
       "      <td>0.000000</td>\n",
       "      <td>1.000000</td>\n",
       "      <td>1.000000</td>\n",
       "      <td>1.000000</td>\n",
       "      <td>1.0</td>\n",
       "    </tr>\n",
       "    <tr>\n",
       "      <th>elementarySchool</th>\n",
       "      <td>327.0</td>\n",
       "      <td>0.296636</td>\n",
       "      <td>0.457475</td>\n",
       "      <td>0.000000</td>\n",
       "      <td>0.000000</td>\n",
       "      <td>0.000000</td>\n",
       "      <td>1.000000</td>\n",
       "      <td>1.0</td>\n",
       "    </tr>\n",
       "    <tr>\n",
       "      <th>profession</th>\n",
       "      <td>327.0</td>\n",
       "      <td>1.987768</td>\n",
       "      <td>0.247386</td>\n",
       "      <td>0.000000</td>\n",
       "      <td>2.000000</td>\n",
       "      <td>2.000000</td>\n",
       "      <td>2.000000</td>\n",
       "      <td>3.0</td>\n",
       "    </tr>\n",
       "    <tr>\n",
       "      <th>yearStudy</th>\n",
       "      <td>327.0</td>\n",
       "      <td>3.550459</td>\n",
       "      <td>1.194206</td>\n",
       "      <td>1.000000</td>\n",
       "      <td>3.000000</td>\n",
       "      <td>4.000000</td>\n",
       "      <td>4.500000</td>\n",
       "      <td>5.0</td>\n",
       "    </tr>\n",
       "    <tr>\n",
       "      <th>universitySelectionReazon</th>\n",
       "      <td>327.0</td>\n",
       "      <td>2.385321</td>\n",
       "      <td>0.967968</td>\n",
       "      <td>0.000000</td>\n",
       "      <td>1.000000</td>\n",
       "      <td>3.000000</td>\n",
       "      <td>3.000000</td>\n",
       "      <td>3.0</td>\n",
       "    </tr>\n",
       "    <tr>\n",
       "      <th>minToTravel</th>\n",
       "      <td>327.0</td>\n",
       "      <td>386.304587</td>\n",
       "      <td>5741.409134</td>\n",
       "      <td>1.000000</td>\n",
       "      <td>20.000000</td>\n",
       "      <td>45.000000</td>\n",
       "      <td>90.000000</td>\n",
       "      <td>103845.0</td>\n",
       "    </tr>\n",
       "    <tr>\n",
       "      <th>weekStudyTime</th>\n",
       "      <td>327.0</td>\n",
       "      <td>9.295107</td>\n",
       "      <td>20.270848</td>\n",
       "      <td>0.000000</td>\n",
       "      <td>4.000000</td>\n",
       "      <td>5.000000</td>\n",
       "      <td>8.000000</td>\n",
       "      <td>320.0</td>\n",
       "    </tr>\n",
       "    <tr>\n",
       "      <th>failCourses</th>\n",
       "      <td>327.0</td>\n",
       "      <td>1.186544</td>\n",
       "      <td>3.051511</td>\n",
       "      <td>0.000000</td>\n",
       "      <td>0.000000</td>\n",
       "      <td>0.000000</td>\n",
       "      <td>2.000000</td>\n",
       "      <td>44.0</td>\n",
       "    </tr>\n",
       "    <tr>\n",
       "      <th>AsistancePercentage</th>\n",
       "      <td>327.0</td>\n",
       "      <td>92.850153</td>\n",
       "      <td>14.244325</td>\n",
       "      <td>10.000000</td>\n",
       "      <td>90.000000</td>\n",
       "      <td>100.000000</td>\n",
       "      <td>100.000000</td>\n",
       "      <td>100.0</td>\n",
       "    </tr>\n",
       "    <tr>\n",
       "      <th>midterExam</th>\n",
       "      <td>327.0</td>\n",
       "      <td>14.669725</td>\n",
       "      <td>1.811966</td>\n",
       "      <td>6.000000</td>\n",
       "      <td>14.000000</td>\n",
       "      <td>15.000000</td>\n",
       "      <td>16.000000</td>\n",
       "      <td>20.0</td>\n",
       "    </tr>\n",
       "    <tr>\n",
       "      <th>finalExam</th>\n",
       "      <td>327.0</td>\n",
       "      <td>14.538226</td>\n",
       "      <td>1.824570</td>\n",
       "      <td>8.000000</td>\n",
       "      <td>13.000000</td>\n",
       "      <td>15.000000</td>\n",
       "      <td>16.000000</td>\n",
       "      <td>20.0</td>\n",
       "    </tr>\n",
       "    <tr>\n",
       "      <th>practiceGrade</th>\n",
       "      <td>327.0</td>\n",
       "      <td>15.015291</td>\n",
       "      <td>1.718202</td>\n",
       "      <td>7.000000</td>\n",
       "      <td>14.000000</td>\n",
       "      <td>15.000000</td>\n",
       "      <td>16.000000</td>\n",
       "      <td>20.0</td>\n",
       "    </tr>\n",
       "    <tr>\n",
       "      <th>FinalGrade</th>\n",
       "      <td>327.0</td>\n",
       "      <td>14.741081</td>\n",
       "      <td>1.585681</td>\n",
       "      <td>9.333333</td>\n",
       "      <td>13.666667</td>\n",
       "      <td>14.666667</td>\n",
       "      <td>15.666667</td>\n",
       "      <td>20.0</td>\n",
       "    </tr>\n",
       "    <tr>\n",
       "      <th>StudentPerformance</th>\n",
       "      <td>327.0</td>\n",
       "      <td>1.721713</td>\n",
       "      <td>0.585290</td>\n",
       "      <td>0.000000</td>\n",
       "      <td>2.000000</td>\n",
       "      <td>2.000000</td>\n",
       "      <td>2.000000</td>\n",
       "      <td>2.0</td>\n",
       "    </tr>\n",
       "  </tbody>\n",
       "</table>\n",
       "</div>"
      ],
      "text/plain": [
       "                           count        mean          std        min  \\\n",
       "gender                     327.0    0.207951     0.406464   0.000000   \n",
       "age                        327.0   27.562691     8.768401  17.000000   \n",
       "civilStatus                327.0    0.666667     0.472127   0.000000   \n",
       "childrens                  327.0    0.397554     0.768071   0.000000   \n",
       "district                   327.0    1.822630     1.029790   0.000000   \n",
       "health                     327.0    0.464832     0.831411   0.000000   \n",
       "closeFriends               327.0    6.770642    12.504453   0.000000   \n",
       "work                       327.0    0.675841     0.468777   0.000000   \n",
       "workHoursWeek              327.0   27.073394    32.663005   0.000000   \n",
       "familyMembers              327.0    5.152905     2.396543   2.000000   \n",
       "familiarIncome             327.0    1.654434     0.507463   0.000000   \n",
       "fatherStudy                327.0    0.492355     0.500708   0.000000   \n",
       "motherStudy                327.0    0.345566     0.476281   0.000000   \n",
       "university                 327.0    0.388379     0.488129   0.000000   \n",
       "typeExam                   327.0    0.868502     0.338463   0.000000   \n",
       "elementarySchool           327.0    0.296636     0.457475   0.000000   \n",
       "profession                 327.0    1.987768     0.247386   0.000000   \n",
       "yearStudy                  327.0    3.550459     1.194206   1.000000   \n",
       "universitySelectionReazon  327.0    2.385321     0.967968   0.000000   \n",
       "minToTravel                327.0  386.304587  5741.409134   1.000000   \n",
       "weekStudyTime              327.0    9.295107    20.270848   0.000000   \n",
       "failCourses                327.0    1.186544     3.051511   0.000000   \n",
       "AsistancePercentage        327.0   92.850153    14.244325  10.000000   \n",
       "midterExam                 327.0   14.669725     1.811966   6.000000   \n",
       "finalExam                  327.0   14.538226     1.824570   8.000000   \n",
       "practiceGrade              327.0   15.015291     1.718202   7.000000   \n",
       "FinalGrade                 327.0   14.741081     1.585681   9.333333   \n",
       "StudentPerformance         327.0    1.721713     0.585290   0.000000   \n",
       "\n",
       "                                 25%         50%         75%       max  \n",
       "gender                      0.000000    0.000000    0.000000       1.0  \n",
       "age                        22.000000   24.000000   31.000000      59.0  \n",
       "civilStatus                 0.000000    1.000000    1.000000       1.0  \n",
       "childrens                   0.000000    0.000000    0.000000       3.0  \n",
       "district                    1.000000    2.000000    3.000000       3.0  \n",
       "health                      0.000000    0.000000    0.000000       2.0  \n",
       "closeFriends                3.000000    4.000000    7.000000     200.0  \n",
       "work                        0.000000    1.000000    1.000000       1.0  \n",
       "workHoursWeek               0.000000   30.000000   48.000000     453.0  \n",
       "familyMembers               4.000000    5.000000    6.000000      25.0  \n",
       "familiarIncome              1.000000    2.000000    2.000000       2.0  \n",
       "fatherStudy                 0.000000    0.000000    1.000000       1.0  \n",
       "motherStudy                 0.000000    0.000000    1.000000       1.0  \n",
       "university                  0.000000    0.000000    1.000000       1.0  \n",
       "typeExam                    1.000000    1.000000    1.000000       1.0  \n",
       "elementarySchool            0.000000    0.000000    1.000000       1.0  \n",
       "profession                  2.000000    2.000000    2.000000       3.0  \n",
       "yearStudy                   3.000000    4.000000    4.500000       5.0  \n",
       "universitySelectionReazon   1.000000    3.000000    3.000000       3.0  \n",
       "minToTravel                20.000000   45.000000   90.000000  103845.0  \n",
       "weekStudyTime               4.000000    5.000000    8.000000     320.0  \n",
       "failCourses                 0.000000    0.000000    2.000000      44.0  \n",
       "AsistancePercentage        90.000000  100.000000  100.000000     100.0  \n",
       "midterExam                 14.000000   15.000000   16.000000      20.0  \n",
       "finalExam                  13.000000   15.000000   16.000000      20.0  \n",
       "practiceGrade              14.000000   15.000000   16.000000      20.0  \n",
       "FinalGrade                 13.666667   14.666667   15.666667      20.0  \n",
       "StudentPerformance          2.000000    2.000000    2.000000       2.0  "
      ]
     },
     "execution_count": 17,
     "metadata": {},
     "output_type": "execute_result"
    }
   ],
   "source": [
    "academic.describe().T"
   ]
  },
  {
   "cell_type": "markdown",
   "metadata": {},
   "source": [
    "Lets see the outliners"
   ]
  },
  {
   "cell_type": "code",
   "execution_count": 18,
   "metadata": {},
   "outputs": [
    {
     "data": {
      "text/plain": [
       "<AxesSubplot:xlabel='weekStudyTime'>"
      ]
     },
     "execution_count": 18,
     "metadata": {},
     "output_type": "execute_result"
    },
    {
     "data": {
      "image/png": "[encoded data removed]",
      "text/plain": [
       "<Figure size 432x288 with 1 Axes>"
      ]
     },
     "metadata": {
      "needs_background": "light"
     },
     "output_type": "display_data"
    }
   ],
   "source": [
    "sns.boxplot(x=academic['weekStudyTime'])"
   ]
  },
  {
   "cell_type": "code",
   "execution_count": 19,
   "metadata": {},
   "outputs": [
    {
     "data": {
      "text/html": [
       "<div>\n",
       "<style scoped>\n",
       "    .dataframe tbody tr th:only-of-type {\n",
       "        vertical-align: middle;\n",
       "    }\n",
       "\n",
       "    .dataframe tbody tr th {\n",
       "        vertical-align: top;\n",
       "    }\n",
       "\n",
       "    .dataframe thead th {\n",
       "        text-align: right;\n",
       "    }\n",
       "</style>\n",
       "<table border=\"1\" class=\"dataframe\">\n",
       "  <thead>\n",
       "    <tr style=\"text-align: right;\">\n",
       "      <th></th>\n",
       "      <th>gender</th>\n",
       "      <th>age</th>\n",
       "      <th>civilStatus</th>\n",
       "      <th>childrens</th>\n",
       "      <th>district</th>\n",
       "      <th>health</th>\n",
       "      <th>closeFriends</th>\n",
       "      <th>work</th>\n",
       "      <th>workHoursWeek</th>\n",
       "      <th>familyMembers</th>\n",
       "      <th>...</th>\n",
       "      <th>universitySelectionReazon</th>\n",
       "      <th>minToTravel</th>\n",
       "      <th>weekStudyTime</th>\n",
       "      <th>failCourses</th>\n",
       "      <th>AsistancePercentage</th>\n",
       "      <th>midterExam</th>\n",
       "      <th>finalExam</th>\n",
       "      <th>practiceGrade</th>\n",
       "      <th>FinalGrade</th>\n",
       "      <th>StudentPerformance</th>\n",
       "    </tr>\n",
       "  </thead>\n",
       "  <tbody>\n",
       "    <tr>\n",
       "      <th>225</th>\n",
       "      <td>0</td>\n",
       "      <td>29</td>\n",
       "      <td>1</td>\n",
       "      <td>0</td>\n",
       "      <td>2</td>\n",
       "      <td>0</td>\n",
       "      <td>5</td>\n",
       "      <td>1</td>\n",
       "      <td>40</td>\n",
       "      <td>4</td>\n",
       "      <td>...</td>\n",
       "      <td>3</td>\n",
       "      <td>100.0</td>\n",
       "      <td>320.0</td>\n",
       "      <td>0</td>\n",
       "      <td>100</td>\n",
       "      <td>14</td>\n",
       "      <td>14</td>\n",
       "      <td>15.0</td>\n",
       "      <td>14.333333</td>\n",
       "      <td>2</td>\n",
       "    </tr>\n",
       "    <tr>\n",
       "      <th>323</th>\n",
       "      <td>0</td>\n",
       "      <td>24</td>\n",
       "      <td>1</td>\n",
       "      <td>0</td>\n",
       "      <td>1</td>\n",
       "      <td>0</td>\n",
       "      <td>2</td>\n",
       "      <td>1</td>\n",
       "      <td>52</td>\n",
       "      <td>6</td>\n",
       "      <td>...</td>\n",
       "      <td>3</td>\n",
       "      <td>90.0</td>\n",
       "      <td>80.0</td>\n",
       "      <td>0</td>\n",
       "      <td>100</td>\n",
       "      <td>15</td>\n",
       "      <td>14</td>\n",
       "      <td>16.0</td>\n",
       "      <td>15.000000</td>\n",
       "      <td>2</td>\n",
       "    </tr>\n",
       "  </tbody>\n",
       "</table>\n",
       "<p>2 rows × 28 columns</p>\n",
       "</div>"
      ],
      "text/plain": [
       "     gender  age  civilStatus  childrens  district  health  closeFriends  \\\n",
       "225       0   29            1          0         2       0             5   \n",
       "323       0   24            1          0         1       0             2   \n",
       "\n",
       "     work  workHoursWeek  familyMembers  ...  universitySelectionReazon  \\\n",
       "225     1             40              4  ...                          3   \n",
       "323     1             52              6  ...                          3   \n",
       "\n",
       "     minToTravel  weekStudyTime  failCourses  AsistancePercentage  midterExam  \\\n",
       "225        100.0          320.0            0                  100          14   \n",
       "323         90.0           80.0            0                  100          15   \n",
       "\n",
       "     finalExam  practiceGrade  FinalGrade  StudentPerformance  \n",
       "225         14           15.0   14.333333                   2  \n",
       "323         14           16.0   15.000000                   2  \n",
       "\n",
       "[2 rows x 28 columns]"
      ]
     },
     "execution_count": 19,
     "metadata": {},
     "output_type": "execute_result"
    }
   ],
   "source": [
    "academic.sort_values(by = 'weekStudyTime', ascending = False)[:2]"
   ]
  },
  {
   "cell_type": "code",
   "execution_count": 20,
   "metadata": {},
   "outputs": [
    {
     "data": {
      "text/plain": [
       "<AxesSubplot:xlabel='minToTravel'>"
      ]
     },
     "execution_count": 20,
     "metadata": {},
     "output_type": "execute_result"
    },
    {
     "data": {
      "image/png": "[encoded data removed]",
      "text/plain": [
       "<Figure size 432x288 with 1 Axes>"
      ]
     },
     "metadata": {
      "needs_background": "light"
     },
     "output_type": "display_data"
    }
   ],
   "source": [
    "sns.boxplot(x=academic['minToTravel'])"
   ]
  },
  {
   "cell_type": "code",
   "execution_count": 21,
   "metadata": {},
   "outputs": [
    {
     "data": {
      "text/html": [
       "<div>\n",
       "<style scoped>\n",
       "    .dataframe tbody tr th:only-of-type {\n",
       "        vertical-align: middle;\n",
       "    }\n",
       "\n",
       "    .dataframe tbody tr th {\n",
       "        vertical-align: top;\n",
       "    }\n",
       "\n",
       "    .dataframe thead th {\n",
       "        text-align: right;\n",
       "    }\n",
       "</style>\n",
       "<table border=\"1\" class=\"dataframe\">\n",
       "  <thead>\n",
       "    <tr style=\"text-align: right;\">\n",
       "      <th></th>\n",
       "      <th>gender</th>\n",
       "      <th>age</th>\n",
       "      <th>civilStatus</th>\n",
       "      <th>childrens</th>\n",
       "      <th>district</th>\n",
       "      <th>health</th>\n",
       "      <th>closeFriends</th>\n",
       "      <th>work</th>\n",
       "      <th>workHoursWeek</th>\n",
       "      <th>familyMembers</th>\n",
       "      <th>...</th>\n",
       "      <th>universitySelectionReazon</th>\n",
       "      <th>minToTravel</th>\n",
       "      <th>weekStudyTime</th>\n",
       "      <th>failCourses</th>\n",
       "      <th>AsistancePercentage</th>\n",
       "      <th>midterExam</th>\n",
       "      <th>finalExam</th>\n",
       "      <th>practiceGrade</th>\n",
       "      <th>FinalGrade</th>\n",
       "      <th>StudentPerformance</th>\n",
       "    </tr>\n",
       "  </thead>\n",
       "  <tbody>\n",
       "    <tr>\n",
       "      <th>310</th>\n",
       "      <td>1</td>\n",
       "      <td>22</td>\n",
       "      <td>1</td>\n",
       "      <td>0</td>\n",
       "      <td>3</td>\n",
       "      <td>0</td>\n",
       "      <td>5</td>\n",
       "      <td>1</td>\n",
       "      <td>7</td>\n",
       "      <td>6</td>\n",
       "      <td>...</td>\n",
       "      <td>3</td>\n",
       "      <td>103845.0</td>\n",
       "      <td>8.0</td>\n",
       "      <td>4</td>\n",
       "      <td>90</td>\n",
       "      <td>13</td>\n",
       "      <td>13</td>\n",
       "      <td>15.0</td>\n",
       "      <td>13.666667</td>\n",
       "      <td>2</td>\n",
       "    </tr>\n",
       "    <tr>\n",
       "      <th>200</th>\n",
       "      <td>0</td>\n",
       "      <td>50</td>\n",
       "      <td>0</td>\n",
       "      <td>1</td>\n",
       "      <td>1</td>\n",
       "      <td>0</td>\n",
       "      <td>5</td>\n",
       "      <td>1</td>\n",
       "      <td>8</td>\n",
       "      <td>3</td>\n",
       "      <td>...</td>\n",
       "      <td>3</td>\n",
       "      <td>2880.0</td>\n",
       "      <td>3.0</td>\n",
       "      <td>0</td>\n",
       "      <td>100</td>\n",
       "      <td>15</td>\n",
       "      <td>15</td>\n",
       "      <td>18.0</td>\n",
       "      <td>16.000000</td>\n",
       "      <td>2</td>\n",
       "    </tr>\n",
       "  </tbody>\n",
       "</table>\n",
       "<p>2 rows × 28 columns</p>\n",
       "</div>"
      ],
      "text/plain": [
       "     gender  age  civilStatus  childrens  district  health  closeFriends  \\\n",
       "310       1   22            1          0         3       0             5   \n",
       "200       0   50            0          1         1       0             5   \n",
       "\n",
       "     work  workHoursWeek  familyMembers  ...  universitySelectionReazon  \\\n",
       "310     1              7              6  ...                          3   \n",
       "200     1              8              3  ...                          3   \n",
       "\n",
       "     minToTravel  weekStudyTime  failCourses  AsistancePercentage  midterExam  \\\n",
       "310     103845.0            8.0            4                   90          13   \n",
       "200       2880.0            3.0            0                  100          15   \n",
       "\n",
       "     finalExam  practiceGrade  FinalGrade  StudentPerformance  \n",
       "310         13           15.0   13.666667                   2  \n",
       "200         15           18.0   16.000000                   2  \n",
       "\n",
       "[2 rows x 28 columns]"
      ]
     },
     "execution_count": 21,
     "metadata": {},
     "output_type": "execute_result"
    }
   ],
   "source": [
    "academic.sort_values(by = 'minToTravel', ascending = False)[:2]"
   ]
  },
  {
   "cell_type": "code",
   "execution_count": 22,
   "metadata": {},
   "outputs": [
    {
     "data": {
      "text/plain": [
       "<AxesSubplot:xlabel='familyMembers'>"
      ]
     },
     "execution_count": 22,
     "metadata": {},
     "output_type": "execute_result"
    },
    {
     "data": {
      "image/png": "[encoded data removed]",
      "text/plain": [
       "<Figure size 432x288 with 1 Axes>"
      ]
     },
     "metadata": {
      "needs_background": "light"
     },
     "output_type": "display_data"
    }
   ],
   "source": [
    "sns.boxplot(x=academic['familyMembers']) "
   ]
  },
  {
   "cell_type": "code",
   "execution_count": 23,
   "metadata": {},
   "outputs": [
    {
     "data": {
      "text/html": [
       "<div>\n",
       "<style scoped>\n",
       "    .dataframe tbody tr th:only-of-type {\n",
       "        vertical-align: middle;\n",
       "    }\n",
       "\n",
       "    .dataframe tbody tr th {\n",
       "        vertical-align: top;\n",
       "    }\n",
       "\n",
       "    .dataframe thead th {\n",
       "        text-align: right;\n",
       "    }\n",
       "</style>\n",
       "<table border=\"1\" class=\"dataframe\">\n",
       "  <thead>\n",
       "    <tr style=\"text-align: right;\">\n",
       "      <th></th>\n",
       "      <th>gender</th>\n",
       "      <th>age</th>\n",
       "      <th>civilStatus</th>\n",
       "      <th>childrens</th>\n",
       "      <th>district</th>\n",
       "      <th>health</th>\n",
       "      <th>closeFriends</th>\n",
       "      <th>work</th>\n",
       "      <th>workHoursWeek</th>\n",
       "      <th>familyMembers</th>\n",
       "      <th>...</th>\n",
       "      <th>universitySelectionReazon</th>\n",
       "      <th>minToTravel</th>\n",
       "      <th>weekStudyTime</th>\n",
       "      <th>failCourses</th>\n",
       "      <th>AsistancePercentage</th>\n",
       "      <th>midterExam</th>\n",
       "      <th>finalExam</th>\n",
       "      <th>practiceGrade</th>\n",
       "      <th>FinalGrade</th>\n",
       "      <th>StudentPerformance</th>\n",
       "    </tr>\n",
       "  </thead>\n",
       "  <tbody>\n",
       "    <tr>\n",
       "      <th>3</th>\n",
       "      <td>0</td>\n",
       "      <td>19</td>\n",
       "      <td>1</td>\n",
       "      <td>0</td>\n",
       "      <td>1</td>\n",
       "      <td>0</td>\n",
       "      <td>30</td>\n",
       "      <td>1</td>\n",
       "      <td>40</td>\n",
       "      <td>25</td>\n",
       "      <td>...</td>\n",
       "      <td>1</td>\n",
       "      <td>20.0</td>\n",
       "      <td>3.0</td>\n",
       "      <td>0</td>\n",
       "      <td>100</td>\n",
       "      <td>15</td>\n",
       "      <td>15</td>\n",
       "      <td>14.0</td>\n",
       "      <td>14.666667</td>\n",
       "      <td>2</td>\n",
       "    </tr>\n",
       "    <tr>\n",
       "      <th>143</th>\n",
       "      <td>1</td>\n",
       "      <td>18</td>\n",
       "      <td>1</td>\n",
       "      <td>0</td>\n",
       "      <td>1</td>\n",
       "      <td>0</td>\n",
       "      <td>5</td>\n",
       "      <td>0</td>\n",
       "      <td>0</td>\n",
       "      <td>15</td>\n",
       "      <td>...</td>\n",
       "      <td>3</td>\n",
       "      <td>35.0</td>\n",
       "      <td>6.0</td>\n",
       "      <td>0</td>\n",
       "      <td>100</td>\n",
       "      <td>12</td>\n",
       "      <td>14</td>\n",
       "      <td>15.0</td>\n",
       "      <td>13.666667</td>\n",
       "      <td>2</td>\n",
       "    </tr>\n",
       "  </tbody>\n",
       "</table>\n",
       "<p>2 rows × 28 columns</p>\n",
       "</div>"
      ],
      "text/plain": [
       "     gender  age  civilStatus  childrens  district  health  closeFriends  \\\n",
       "3         0   19            1          0         1       0            30   \n",
       "143       1   18            1          0         1       0             5   \n",
       "\n",
       "     work  workHoursWeek  familyMembers  ...  universitySelectionReazon  \\\n",
       "3       1             40             25  ...                          1   \n",
       "143     0              0             15  ...                          3   \n",
       "\n",
       "     minToTravel  weekStudyTime  failCourses  AsistancePercentage  midterExam  \\\n",
       "3           20.0            3.0            0                  100          15   \n",
       "143         35.0            6.0            0                  100          12   \n",
       "\n",
       "     finalExam  practiceGrade  FinalGrade  StudentPerformance  \n",
       "3           15           14.0   14.666667                   2  \n",
       "143         14           15.0   13.666667                   2  \n",
       "\n",
       "[2 rows x 28 columns]"
      ]
     },
     "execution_count": 23,
     "metadata": {},
     "output_type": "execute_result"
    }
   ],
   "source": [
    "academic.sort_values(by = 'familyMembers', ascending = False)[:2]\n"
   ]
  },
  {
   "cell_type": "code",
   "execution_count": 24,
   "metadata": {},
   "outputs": [
    {
     "data": {
      "text/plain": [
       "<AxesSubplot:xlabel='workHoursWeek'>"
      ]
     },
     "execution_count": 24,
     "metadata": {},
     "output_type": "execute_result"
    },
    {
     "data": {
      "image/png": "[encoded data removed]",
      "text/plain": [
       "<Figure size 432x288 with 1 Axes>"
      ]
     },
     "metadata": {
      "needs_background": "light"
     },
     "output_type": "display_data"
    }
   ],
   "source": [
    "\n",
    "sns.boxplot(x=academic['workHoursWeek']) "
   ]
  },
  {
   "cell_type": "code",
   "execution_count": 25,
   "metadata": {},
   "outputs": [
    {
     "data": {
      "text/html": [
       "<div>\n",
       "<style scoped>\n",
       "    .dataframe tbody tr th:only-of-type {\n",
       "        vertical-align: middle;\n",
       "    }\n",
       "\n",
       "    .dataframe tbody tr th {\n",
       "        vertical-align: top;\n",
       "    }\n",
       "\n",
       "    .dataframe thead th {\n",
       "        text-align: right;\n",
       "    }\n",
       "</style>\n",
       "<table border=\"1\" class=\"dataframe\">\n",
       "  <thead>\n",
       "    <tr style=\"text-align: right;\">\n",
       "      <th></th>\n",
       "      <th>gender</th>\n",
       "      <th>age</th>\n",
       "      <th>civilStatus</th>\n",
       "      <th>childrens</th>\n",
       "      <th>district</th>\n",
       "      <th>health</th>\n",
       "      <th>closeFriends</th>\n",
       "      <th>work</th>\n",
       "      <th>workHoursWeek</th>\n",
       "      <th>familyMembers</th>\n",
       "      <th>...</th>\n",
       "      <th>universitySelectionReazon</th>\n",
       "      <th>minToTravel</th>\n",
       "      <th>weekStudyTime</th>\n",
       "      <th>failCourses</th>\n",
       "      <th>AsistancePercentage</th>\n",
       "      <th>midterExam</th>\n",
       "      <th>finalExam</th>\n",
       "      <th>practiceGrade</th>\n",
       "      <th>FinalGrade</th>\n",
       "      <th>StudentPerformance</th>\n",
       "    </tr>\n",
       "  </thead>\n",
       "  <tbody>\n",
       "    <tr>\n",
       "      <th>31</th>\n",
       "      <td>0</td>\n",
       "      <td>25</td>\n",
       "      <td>1</td>\n",
       "      <td>0</td>\n",
       "      <td>0</td>\n",
       "      <td>0</td>\n",
       "      <td>7</td>\n",
       "      <td>1</td>\n",
       "      <td>453</td>\n",
       "      <td>3</td>\n",
       "      <td>...</td>\n",
       "      <td>1</td>\n",
       "      <td>45.0</td>\n",
       "      <td>24.0</td>\n",
       "      <td>16</td>\n",
       "      <td>100</td>\n",
       "      <td>17</td>\n",
       "      <td>16</td>\n",
       "      <td>16.0</td>\n",
       "      <td>16.333333</td>\n",
       "      <td>2</td>\n",
       "    </tr>\n",
       "    <tr>\n",
       "      <th>132</th>\n",
       "      <td>0</td>\n",
       "      <td>25</td>\n",
       "      <td>1</td>\n",
       "      <td>0</td>\n",
       "      <td>2</td>\n",
       "      <td>0</td>\n",
       "      <td>0</td>\n",
       "      <td>1</td>\n",
       "      <td>130</td>\n",
       "      <td>5</td>\n",
       "      <td>...</td>\n",
       "      <td>3</td>\n",
       "      <td>120.0</td>\n",
       "      <td>64.0</td>\n",
       "      <td>0</td>\n",
       "      <td>100</td>\n",
       "      <td>13</td>\n",
       "      <td>12</td>\n",
       "      <td>13.0</td>\n",
       "      <td>12.666667</td>\n",
       "      <td>1</td>\n",
       "    </tr>\n",
       "  </tbody>\n",
       "</table>\n",
       "<p>2 rows × 28 columns</p>\n",
       "</div>"
      ],
      "text/plain": [
       "     gender  age  civilStatus  childrens  district  health  closeFriends  \\\n",
       "31        0   25            1          0         0       0             7   \n",
       "132       0   25            1          0         2       0             0   \n",
       "\n",
       "     work  workHoursWeek  familyMembers  ...  universitySelectionReazon  \\\n",
       "31      1            453              3  ...                          1   \n",
       "132     1            130              5  ...                          3   \n",
       "\n",
       "     minToTravel  weekStudyTime  failCourses  AsistancePercentage  midterExam  \\\n",
       "31          45.0           24.0           16                  100          17   \n",
       "132        120.0           64.0            0                  100          13   \n",
       "\n",
       "     finalExam  practiceGrade  FinalGrade  StudentPerformance  \n",
       "31          16           16.0   16.333333                   2  \n",
       "132         12           13.0   12.666667                   1  \n",
       "\n",
       "[2 rows x 28 columns]"
      ]
     },
     "execution_count": 25,
     "metadata": {},
     "output_type": "execute_result"
    }
   ],
   "source": [
    "academic.sort_values(by = 'workHoursWeek', ascending = False)[:2]"
   ]
  },
  {
   "cell_type": "code",
   "execution_count": 26,
   "metadata": {},
   "outputs": [
    {
     "data": {
      "text/plain": [
       "<AxesSubplot:xlabel='closeFriends'>"
      ]
     },
     "execution_count": 26,
     "metadata": {},
     "output_type": "execute_result"
    },
    {
     "data": {
      "image/png": "[encoded data removed]",
      "text/plain": [
       "<Figure size 432x288 with 1 Axes>"
      ]
     },
     "metadata": {
      "needs_background": "light"
     },
     "output_type": "display_data"
    }
   ],
   "source": [
    "\n",
    "sns.boxplot(x=academic['closeFriends']) "
   ]
  },
  {
   "cell_type": "code",
   "execution_count": 27,
   "metadata": {},
   "outputs": [
    {
     "data": {
      "text/html": [
       "<div>\n",
       "<style scoped>\n",
       "    .dataframe tbody tr th:only-of-type {\n",
       "        vertical-align: middle;\n",
       "    }\n",
       "\n",
       "    .dataframe tbody tr th {\n",
       "        vertical-align: top;\n",
       "    }\n",
       "\n",
       "    .dataframe thead th {\n",
       "        text-align: right;\n",
       "    }\n",
       "</style>\n",
       "<table border=\"1\" class=\"dataframe\">\n",
       "  <thead>\n",
       "    <tr style=\"text-align: right;\">\n",
       "      <th></th>\n",
       "      <th>gender</th>\n",
       "      <th>age</th>\n",
       "      <th>civilStatus</th>\n",
       "      <th>childrens</th>\n",
       "      <th>district</th>\n",
       "      <th>health</th>\n",
       "      <th>closeFriends</th>\n",
       "      <th>work</th>\n",
       "      <th>workHoursWeek</th>\n",
       "      <th>familyMembers</th>\n",
       "      <th>...</th>\n",
       "      <th>universitySelectionReazon</th>\n",
       "      <th>minToTravel</th>\n",
       "      <th>weekStudyTime</th>\n",
       "      <th>failCourses</th>\n",
       "      <th>AsistancePercentage</th>\n",
       "      <th>midterExam</th>\n",
       "      <th>finalExam</th>\n",
       "      <th>practiceGrade</th>\n",
       "      <th>FinalGrade</th>\n",
       "      <th>StudentPerformance</th>\n",
       "    </tr>\n",
       "  </thead>\n",
       "  <tbody>\n",
       "    <tr>\n",
       "      <th>38</th>\n",
       "      <td>0</td>\n",
       "      <td>42</td>\n",
       "      <td>0</td>\n",
       "      <td>2</td>\n",
       "      <td>1</td>\n",
       "      <td>0</td>\n",
       "      <td>200</td>\n",
       "      <td>1</td>\n",
       "      <td>48</td>\n",
       "      <td>4</td>\n",
       "      <td>...</td>\n",
       "      <td>3</td>\n",
       "      <td>60.0</td>\n",
       "      <td>4.0</td>\n",
       "      <td>1</td>\n",
       "      <td>14</td>\n",
       "      <td>14</td>\n",
       "      <td>14</td>\n",
       "      <td>14.0</td>\n",
       "      <td>14.0</td>\n",
       "      <td>2</td>\n",
       "    </tr>\n",
       "    <tr>\n",
       "      <th>256</th>\n",
       "      <td>0</td>\n",
       "      <td>24</td>\n",
       "      <td>1</td>\n",
       "      <td>0</td>\n",
       "      <td>2</td>\n",
       "      <td>0</td>\n",
       "      <td>50</td>\n",
       "      <td>1</td>\n",
       "      <td>40</td>\n",
       "      <td>4</td>\n",
       "      <td>...</td>\n",
       "      <td>3</td>\n",
       "      <td>70.0</td>\n",
       "      <td>2.0</td>\n",
       "      <td>0</td>\n",
       "      <td>85</td>\n",
       "      <td>11</td>\n",
       "      <td>12</td>\n",
       "      <td>13.0</td>\n",
       "      <td>12.0</td>\n",
       "      <td>1</td>\n",
       "    </tr>\n",
       "  </tbody>\n",
       "</table>\n",
       "<p>2 rows × 28 columns</p>\n",
       "</div>"
      ],
      "text/plain": [
       "     gender  age  civilStatus  childrens  district  health  closeFriends  \\\n",
       "38        0   42            0          2         1       0           200   \n",
       "256       0   24            1          0         2       0            50   \n",
       "\n",
       "     work  workHoursWeek  familyMembers  ...  universitySelectionReazon  \\\n",
       "38      1             48              4  ...                          3   \n",
       "256     1             40              4  ...                          3   \n",
       "\n",
       "     minToTravel  weekStudyTime  failCourses  AsistancePercentage  midterExam  \\\n",
       "38          60.0            4.0            1                   14          14   \n",
       "256         70.0            2.0            0                   85          11   \n",
       "\n",
       "     finalExam  practiceGrade  FinalGrade  StudentPerformance  \n",
       "38          14           14.0        14.0                   2  \n",
       "256         12           13.0        12.0                   1  \n",
       "\n",
       "[2 rows x 28 columns]"
      ]
     },
     "execution_count": 27,
     "metadata": {},
     "output_type": "execute_result"
    }
   ],
   "source": [
    "academic.sort_values(by = 'closeFriends', ascending = False)[:2]"
   ]
  },
  {
   "cell_type": "code",
   "execution_count": 28,
   "metadata": {},
   "outputs": [],
   "source": [
    "academic.drop(academic.index[[3,31,38,132,143,200,225,256,310,323]],inplace=True) "
   ]
  },
  {
   "cell_type": "code",
   "execution_count": 29,
   "metadata": {},
   "outputs": [
    {
     "data": {
      "text/plain": [
       "<AxesSubplot:xlabel='weekStudyTime'>"
      ]
     },
     "execution_count": 29,
     "metadata": {},
     "output_type": "execute_result"
    },
    {
     "data": {
      "image/png": "[encoded data removed]",
      "text/plain": [
       "<Figure size 432x288 with 1 Axes>"
      ]
     },
     "metadata": {
      "needs_background": "light"
     },
     "output_type": "display_data"
    }
   ],
   "source": [
    "sns.boxplot(x=academic['weekStudyTime'])"
   ]
  },
  {
   "cell_type": "code",
   "execution_count": 30,
   "metadata": {},
   "outputs": [
    {
     "data": {
      "text/plain": [
       "<AxesSubplot:xlabel='minToTravel'>"
      ]
     },
     "execution_count": 30,
     "metadata": {},
     "output_type": "execute_result"
    },
    {
     "data": {
      "image/png": "[encoded data removed]",
      "text/plain": [
       "<Figure size 432x288 with 1 Axes>"
      ]
     },
     "metadata": {
      "needs_background": "light"
     },
     "output_type": "display_data"
    }
   ],
   "source": [
    "sns.boxplot(x=academic['minToTravel'])"
   ]
  },
  {
   "cell_type": "code",
   "execution_count": 31,
   "metadata": {},
   "outputs": [
    {
     "data": {
      "text/plain": [
       "<AxesSubplot:xlabel='familyMembers'>"
      ]
     },
     "execution_count": 31,
     "metadata": {},
     "output_type": "execute_result"
    },
    {
     "data": {
      "image/png": "[encoded data removed]",
      "text/plain": [
       "<Figure size 432x288 with 1 Axes>"
      ]
     },
     "metadata": {
      "needs_background": "light"
     },
     "output_type": "display_data"
    }
   ],
   "source": [
    "sns.boxplot(x=academic['familyMembers']) "
   ]
  },
  {
   "cell_type": "code",
   "execution_count": 32,
   "metadata": {},
   "outputs": [
    {
     "data": {
      "text/plain": [
       "<AxesSubplot:xlabel='workHoursWeek'>"
      ]
     },
     "execution_count": 32,
     "metadata": {},
     "output_type": "execute_result"
    },
    {
     "data": {
      "image/png": "[encoded data removed]",
      "text/plain": [
       "<Figure size 432x288 with 1 Axes>"
      ]
     },
     "metadata": {
      "needs_background": "light"
     },
     "output_type": "display_data"
    }
   ],
   "source": [
    "sns.boxplot(x=academic['workHoursWeek']) "
   ]
  },
  {
   "cell_type": "code",
   "execution_count": 33,
   "metadata": {},
   "outputs": [
    {
     "data": {
      "text/plain": [
       "<AxesSubplot:xlabel='closeFriends'>"
      ]
     },
     "execution_count": 33,
     "metadata": {},
     "output_type": "execute_result"
    },
    {
     "data": {
      "image/png": "[encoded data removed]",
      "text/plain": [
       "<Figure size 432x288 with 1 Axes>"
      ]
     },
     "metadata": {
      "needs_background": "light"
     },
     "output_type": "display_data"
    }
   ],
   "source": [
    "sns.boxplot(x=academic['closeFriends']) "
   ]
  },
  {
   "cell_type": "markdown",
   "metadata": {},
   "source": [
    "Guardamos el archivo procesado con los datos ya convertidos a numericos para poder procesarlos"
   ]
  },
  {
   "cell_type": "code",
   "execution_count": 34,
   "metadata": {},
   "outputs": [],
   "source": [
    "outputfile = 'studentPerformanceProcesed.csv'\n",
    "academic.to_csv(outputfile, index=False)\n"
   ]
  },
  {
   "cell_type": "markdown",
   "metadata": {},
   "source": [
    "# set the data for the Predictions"
   ]
  },
  {
   "cell_type": "code",
   "execution_count": 35,
   "metadata": {},
   "outputs": [
    {
     "data": {
      "text/plain": [
       "<AxesSubplot:xlabel='StudentPerformance'>"
      ]
     },
     "execution_count": 35,
     "metadata": {},
     "output_type": "execute_result"
    },
    {
     "data": {
      "image/png": "[encoded data removed]",
      "text/plain": [
       "<Figure size 432x288 with 1 Axes>"
      ]
     },
     "metadata": {
      "needs_background": "light"
     },
     "output_type": "display_data"
    }
   ],
   "source": [
    "academic.iloc[:, -1:].value_counts().plot.bar(color=['yellow', 'red', 'green'])"
   ]
  },
  {
   "cell_type": "markdown",
   "metadata": {},
   "source": [
    "Our data set is inbalance take it into account for the case  \n",
    "for now the X and Y data is created"
   ]
  },
  {
   "cell_type": "code",
   "execution_count": 36,
   "metadata": {},
   "outputs": [],
   "source": [
    "X_raw = academic.iloc[:, :-1]\n",
    "y_raw = academic.iloc[:, -1:]"
   ]
  },
  {
   "cell_type": "code",
   "execution_count": 37,
   "metadata": {},
   "outputs": [
    {
     "data": {
      "text/html": [
       "<div>\n",
       "<style scoped>\n",
       "    .dataframe tbody tr th:only-of-type {\n",
       "        vertical-align: middle;\n",
       "    }\n",
       "\n",
       "    .dataframe tbody tr th {\n",
       "        vertical-align: top;\n",
       "    }\n",
       "\n",
       "    .dataframe thead th {\n",
       "        text-align: right;\n",
       "    }\n",
       "</style>\n",
       "<table border=\"1\" class=\"dataframe\">\n",
       "  <thead>\n",
       "    <tr style=\"text-align: right;\">\n",
       "      <th></th>\n",
       "      <th>gender</th>\n",
       "      <th>age</th>\n",
       "      <th>civilStatus</th>\n",
       "      <th>childrens</th>\n",
       "      <th>district</th>\n",
       "      <th>health</th>\n",
       "      <th>closeFriends</th>\n",
       "      <th>work</th>\n",
       "      <th>workHoursWeek</th>\n",
       "      <th>familyMembers</th>\n",
       "      <th>...</th>\n",
       "      <th>yearStudy</th>\n",
       "      <th>universitySelectionReazon</th>\n",
       "      <th>minToTravel</th>\n",
       "      <th>weekStudyTime</th>\n",
       "      <th>failCourses</th>\n",
       "      <th>AsistancePercentage</th>\n",
       "      <th>midterExam</th>\n",
       "      <th>finalExam</th>\n",
       "      <th>practiceGrade</th>\n",
       "      <th>FinalGrade</th>\n",
       "    </tr>\n",
       "  </thead>\n",
       "  <tbody>\n",
       "    <tr>\n",
       "      <th>0</th>\n",
       "      <td>0</td>\n",
       "      <td>19</td>\n",
       "      <td>1</td>\n",
       "      <td>0</td>\n",
       "      <td>2</td>\n",
       "      <td>2</td>\n",
       "      <td>3</td>\n",
       "      <td>0</td>\n",
       "      <td>4</td>\n",
       "      <td>3</td>\n",
       "      <td>...</td>\n",
       "      <td>2</td>\n",
       "      <td>1</td>\n",
       "      <td>15.0</td>\n",
       "      <td>2.0</td>\n",
       "      <td>1</td>\n",
       "      <td>90</td>\n",
       "      <td>14</td>\n",
       "      <td>12</td>\n",
       "      <td>13.0</td>\n",
       "      <td>13.000000</td>\n",
       "    </tr>\n",
       "    <tr>\n",
       "      <th>1</th>\n",
       "      <td>0</td>\n",
       "      <td>22</td>\n",
       "      <td>1</td>\n",
       "      <td>0</td>\n",
       "      <td>2</td>\n",
       "      <td>0</td>\n",
       "      <td>2</td>\n",
       "      <td>0</td>\n",
       "      <td>0</td>\n",
       "      <td>3</td>\n",
       "      <td>...</td>\n",
       "      <td>3</td>\n",
       "      <td>3</td>\n",
       "      <td>30.0</td>\n",
       "      <td>8.0</td>\n",
       "      <td>0</td>\n",
       "      <td>100</td>\n",
       "      <td>16</td>\n",
       "      <td>17</td>\n",
       "      <td>16.0</td>\n",
       "      <td>16.333333</td>\n",
       "    </tr>\n",
       "    <tr>\n",
       "      <th>2</th>\n",
       "      <td>1</td>\n",
       "      <td>24</td>\n",
       "      <td>1</td>\n",
       "      <td>0</td>\n",
       "      <td>0</td>\n",
       "      <td>1</td>\n",
       "      <td>5</td>\n",
       "      <td>1</td>\n",
       "      <td>48</td>\n",
       "      <td>4</td>\n",
       "      <td>...</td>\n",
       "      <td>5</td>\n",
       "      <td>3</td>\n",
       "      <td>45.0</td>\n",
       "      <td>0.0</td>\n",
       "      <td>0</td>\n",
       "      <td>80</td>\n",
       "      <td>15</td>\n",
       "      <td>15</td>\n",
       "      <td>16.0</td>\n",
       "      <td>15.333333</td>\n",
       "    </tr>\n",
       "    <tr>\n",
       "      <th>4</th>\n",
       "      <td>0</td>\n",
       "      <td>20</td>\n",
       "      <td>1</td>\n",
       "      <td>0</td>\n",
       "      <td>2</td>\n",
       "      <td>0</td>\n",
       "      <td>4</td>\n",
       "      <td>1</td>\n",
       "      <td>25</td>\n",
       "      <td>5</td>\n",
       "      <td>...</td>\n",
       "      <td>5</td>\n",
       "      <td>3</td>\n",
       "      <td>50.0</td>\n",
       "      <td>5.0</td>\n",
       "      <td>2</td>\n",
       "      <td>100</td>\n",
       "      <td>14</td>\n",
       "      <td>14</td>\n",
       "      <td>14.0</td>\n",
       "      <td>14.000000</td>\n",
       "    </tr>\n",
       "    <tr>\n",
       "      <th>5</th>\n",
       "      <td>0</td>\n",
       "      <td>21</td>\n",
       "      <td>0</td>\n",
       "      <td>1</td>\n",
       "      <td>2</td>\n",
       "      <td>0</td>\n",
       "      <td>2</td>\n",
       "      <td>1</td>\n",
       "      <td>40</td>\n",
       "      <td>5</td>\n",
       "      <td>...</td>\n",
       "      <td>4</td>\n",
       "      <td>1</td>\n",
       "      <td>40.0</td>\n",
       "      <td>4.0</td>\n",
       "      <td>4</td>\n",
       "      <td>70</td>\n",
       "      <td>17</td>\n",
       "      <td>17</td>\n",
       "      <td>17.0</td>\n",
       "      <td>17.000000</td>\n",
       "    </tr>\n",
       "    <tr>\n",
       "      <th>...</th>\n",
       "      <td>...</td>\n",
       "      <td>...</td>\n",
       "      <td>...</td>\n",
       "      <td>...</td>\n",
       "      <td>...</td>\n",
       "      <td>...</td>\n",
       "      <td>...</td>\n",
       "      <td>...</td>\n",
       "      <td>...</td>\n",
       "      <td>...</td>\n",
       "      <td>...</td>\n",
       "      <td>...</td>\n",
       "      <td>...</td>\n",
       "      <td>...</td>\n",
       "      <td>...</td>\n",
       "      <td>...</td>\n",
       "      <td>...</td>\n",
       "      <td>...</td>\n",
       "      <td>...</td>\n",
       "      <td>...</td>\n",
       "      <td>...</td>\n",
       "    </tr>\n",
       "    <tr>\n",
       "      <th>321</th>\n",
       "      <td>0</td>\n",
       "      <td>33</td>\n",
       "      <td>0</td>\n",
       "      <td>1</td>\n",
       "      <td>0</td>\n",
       "      <td>2</td>\n",
       "      <td>0</td>\n",
       "      <td>1</td>\n",
       "      <td>48</td>\n",
       "      <td>3</td>\n",
       "      <td>...</td>\n",
       "      <td>3</td>\n",
       "      <td>2</td>\n",
       "      <td>80.0</td>\n",
       "      <td>5.0</td>\n",
       "      <td>2</td>\n",
       "      <td>80</td>\n",
       "      <td>14</td>\n",
       "      <td>12</td>\n",
       "      <td>14.0</td>\n",
       "      <td>13.333333</td>\n",
       "    </tr>\n",
       "    <tr>\n",
       "      <th>322</th>\n",
       "      <td>0</td>\n",
       "      <td>32</td>\n",
       "      <td>1</td>\n",
       "      <td>0</td>\n",
       "      <td>3</td>\n",
       "      <td>0</td>\n",
       "      <td>2</td>\n",
       "      <td>1</td>\n",
       "      <td>42</td>\n",
       "      <td>3</td>\n",
       "      <td>...</td>\n",
       "      <td>3</td>\n",
       "      <td>3</td>\n",
       "      <td>120.0</td>\n",
       "      <td>4.0</td>\n",
       "      <td>0</td>\n",
       "      <td>98</td>\n",
       "      <td>15</td>\n",
       "      <td>16</td>\n",
       "      <td>15.0</td>\n",
       "      <td>15.333333</td>\n",
       "    </tr>\n",
       "    <tr>\n",
       "      <th>324</th>\n",
       "      <td>0</td>\n",
       "      <td>29</td>\n",
       "      <td>1</td>\n",
       "      <td>0</td>\n",
       "      <td>2</td>\n",
       "      <td>0</td>\n",
       "      <td>25</td>\n",
       "      <td>1</td>\n",
       "      <td>48</td>\n",
       "      <td>5</td>\n",
       "      <td>...</td>\n",
       "      <td>3</td>\n",
       "      <td>3</td>\n",
       "      <td>25.0</td>\n",
       "      <td>5.0</td>\n",
       "      <td>0</td>\n",
       "      <td>90</td>\n",
       "      <td>17</td>\n",
       "      <td>18</td>\n",
       "      <td>17.0</td>\n",
       "      <td>17.333333</td>\n",
       "    </tr>\n",
       "    <tr>\n",
       "      <th>325</th>\n",
       "      <td>0</td>\n",
       "      <td>23</td>\n",
       "      <td>1</td>\n",
       "      <td>0</td>\n",
       "      <td>3</td>\n",
       "      <td>0</td>\n",
       "      <td>2</td>\n",
       "      <td>1</td>\n",
       "      <td>24</td>\n",
       "      <td>2</td>\n",
       "      <td>...</td>\n",
       "      <td>3</td>\n",
       "      <td>3</td>\n",
       "      <td>180.0</td>\n",
       "      <td>3.0</td>\n",
       "      <td>0</td>\n",
       "      <td>90</td>\n",
       "      <td>15</td>\n",
       "      <td>18</td>\n",
       "      <td>16.0</td>\n",
       "      <td>16.333333</td>\n",
       "    </tr>\n",
       "    <tr>\n",
       "      <th>326</th>\n",
       "      <td>0</td>\n",
       "      <td>29</td>\n",
       "      <td>1</td>\n",
       "      <td>0</td>\n",
       "      <td>0</td>\n",
       "      <td>0</td>\n",
       "      <td>2</td>\n",
       "      <td>1</td>\n",
       "      <td>48</td>\n",
       "      <td>5</td>\n",
       "      <td>...</td>\n",
       "      <td>3</td>\n",
       "      <td>1</td>\n",
       "      <td>1.0</td>\n",
       "      <td>6.0</td>\n",
       "      <td>0</td>\n",
       "      <td>90</td>\n",
       "      <td>18</td>\n",
       "      <td>17</td>\n",
       "      <td>18.0</td>\n",
       "      <td>17.666667</td>\n",
       "    </tr>\n",
       "  </tbody>\n",
       "</table>\n",
       "<p>317 rows × 27 columns</p>\n",
       "</div>"
      ],
      "text/plain": [
       "     gender  age  civilStatus  childrens  district  health  closeFriends  \\\n",
       "0         0   19            1          0         2       2             3   \n",
       "1         0   22            1          0         2       0             2   \n",
       "2         1   24            1          0         0       1             5   \n",
       "4         0   20            1          0         2       0             4   \n",
       "5         0   21            0          1         2       0             2   \n",
       "..      ...  ...          ...        ...       ...     ...           ...   \n",
       "321       0   33            0          1         0       2             0   \n",
       "322       0   32            1          0         3       0             2   \n",
       "324       0   29            1          0         2       0            25   \n",
       "325       0   23            1          0         3       0             2   \n",
       "326       0   29            1          0         0       0             2   \n",
       "\n",
       "     work  workHoursWeek  familyMembers  ...  yearStudy  \\\n",
       "0       0              4              3  ...          2   \n",
       "1       0              0              3  ...          3   \n",
       "2       1             48              4  ...          5   \n",
       "4       1             25              5  ...          5   \n",
       "5       1             40              5  ...          4   \n",
       "..    ...            ...            ...  ...        ...   \n",
       "321     1             48              3  ...          3   \n",
       "322     1             42              3  ...          3   \n",
       "324     1             48              5  ...          3   \n",
       "325     1             24              2  ...          3   \n",
       "326     1             48              5  ...          3   \n",
       "\n",
       "     universitySelectionReazon  minToTravel  weekStudyTime  failCourses  \\\n",
       "0                            1         15.0            2.0            1   \n",
       "1                            3         30.0            8.0            0   \n",
       "2                            3         45.0            0.0            0   \n",
       "4                            3         50.0            5.0            2   \n",
       "5                            1         40.0            4.0            4   \n",
       "..                         ...          ...            ...          ...   \n",
       "321                          2         80.0            5.0            2   \n",
       "322                          3        120.0            4.0            0   \n",
       "324                          3         25.0            5.0            0   \n",
       "325                          3        180.0            3.0            0   \n",
       "326                          1          1.0            6.0            0   \n",
       "\n",
       "     AsistancePercentage  midterExam  finalExam  practiceGrade  FinalGrade  \n",
       "0                     90          14         12           13.0   13.000000  \n",
       "1                    100          16         17           16.0   16.333333  \n",
       "2                     80          15         15           16.0   15.333333  \n",
       "4                    100          14         14           14.0   14.000000  \n",
       "5                     70          17         17           17.0   17.000000  \n",
       "..                   ...         ...        ...            ...         ...  \n",
       "321                   80          14         12           14.0   13.333333  \n",
       "322                   98          15         16           15.0   15.333333  \n",
       "324                   90          17         18           17.0   17.333333  \n",
       "325                   90          15         18           16.0   16.333333  \n",
       "326                   90          18         17           18.0   17.666667  \n",
       "\n",
       "[317 rows x 27 columns]"
      ]
     },
     "execution_count": 37,
     "metadata": {},
     "output_type": "execute_result"
    }
   ],
   "source": [
    "X_raw"
   ]
  },
  {
   "cell_type": "code",
   "execution_count": 38,
   "metadata": {},
   "outputs": [
    {
     "data": {
      "text/html": [
       "<div>\n",
       "<style scoped>\n",
       "    .dataframe tbody tr th:only-of-type {\n",
       "        vertical-align: middle;\n",
       "    }\n",
       "\n",
       "    .dataframe tbody tr th {\n",
       "        vertical-align: top;\n",
       "    }\n",
       "\n",
       "    .dataframe thead th {\n",
       "        text-align: right;\n",
       "    }\n",
       "</style>\n",
       "<table border=\"1\" class=\"dataframe\">\n",
       "  <thead>\n",
       "    <tr style=\"text-align: right;\">\n",
       "      <th></th>\n",
       "      <th>StudentPerformance</th>\n",
       "    </tr>\n",
       "  </thead>\n",
       "  <tbody>\n",
       "    <tr>\n",
       "      <th>0</th>\n",
       "      <td>1</td>\n",
       "    </tr>\n",
       "    <tr>\n",
       "      <th>1</th>\n",
       "      <td>2</td>\n",
       "    </tr>\n",
       "    <tr>\n",
       "      <th>2</th>\n",
       "      <td>2</td>\n",
       "    </tr>\n",
       "    <tr>\n",
       "      <th>4</th>\n",
       "      <td>2</td>\n",
       "    </tr>\n",
       "    <tr>\n",
       "      <th>5</th>\n",
       "      <td>2</td>\n",
       "    </tr>\n",
       "    <tr>\n",
       "      <th>...</th>\n",
       "      <td>...</td>\n",
       "    </tr>\n",
       "    <tr>\n",
       "      <th>321</th>\n",
       "      <td>2</td>\n",
       "    </tr>\n",
       "    <tr>\n",
       "      <th>322</th>\n",
       "      <td>2</td>\n",
       "    </tr>\n",
       "    <tr>\n",
       "      <th>324</th>\n",
       "      <td>0</td>\n",
       "    </tr>\n",
       "    <tr>\n",
       "      <th>325</th>\n",
       "      <td>2</td>\n",
       "    </tr>\n",
       "    <tr>\n",
       "      <th>326</th>\n",
       "      <td>0</td>\n",
       "    </tr>\n",
       "  </tbody>\n",
       "</table>\n",
       "<p>317 rows × 1 columns</p>\n",
       "</div>"
      ],
      "text/plain": [
       "     StudentPerformance\n",
       "0                     1\n",
       "1                     2\n",
       "2                     2\n",
       "4                     2\n",
       "5                     2\n",
       "..                  ...\n",
       "321                   2\n",
       "322                   2\n",
       "324                   0\n",
       "325                   2\n",
       "326                   0\n",
       "\n",
       "[317 rows x 1 columns]"
      ]
     },
     "execution_count": 38,
     "metadata": {},
     "output_type": "execute_result"
    }
   ],
   "source": [
    "y_raw"
   ]
  },
  {
   "cell_type": "markdown",
   "metadata": {},
   "source": [
    "# Logistic Regression\n",
    "\n",
    "for logictic regression the data has to be scaler "
   ]
  },
  {
   "cell_type": "code",
   "execution_count": 39,
   "metadata": {},
   "outputs": [
    {
     "name": "stdout",
     "output_type": "stream",
     "text": [
      "The range of feature inputs are within 0.0 to 1.0\n"
     ]
    }
   ],
   "source": [
    "from sklearn.preprocessing import  MinMaxScaler\n",
    "scaler = MinMaxScaler()\n",
    "x=scaler.fit_transform(X_raw)\n",
    "y=y_raw\n",
    "\n",
    "print(f\"The range of feature inputs are within {x.min()} to {x.max()}\")"
   ]
  },
  {
   "cell_type": "markdown",
   "metadata": {},
   "source": [
    "Creando datos de entrenamiento y de prueba"
   ]
  },
  {
   "cell_type": "code",
   "execution_count": 40,
   "metadata": {},
   "outputs": [],
   "source": [
    "from sklearn.model_selection import train_test_split\n",
    "X_train, X_test, y_train, y_test = train_test_split(x, y, test_size=0.2, stratify=y, random_state = 123)"
   ]
  },
  {
   "cell_type": "code",
   "execution_count": 41,
   "metadata": {},
   "outputs": [
    {
     "name": "stdout",
     "output_type": "stream",
     "text": [
      "Training dataset shape, X_train: (253, 27), y_train: (253, 1)\n"
     ]
    }
   ],
   "source": [
    "print(f\"Training dataset shape, X_train: {X_train.shape}, y_train: {y_train.shape}\")"
   ]
  },
  {
   "cell_type": "code",
   "execution_count": 42,
   "metadata": {},
   "outputs": [
    {
     "name": "stdout",
     "output_type": "stream",
     "text": [
      "Testing dataset shape, X_test: (64, 27), y_test: (64, 1)\n"
     ]
    }
   ],
   "source": [
    "print(f\"Testing dataset shape, X_test: {X_test.shape}, y_test: {y_test.shape}\")"
   ]
  },
  {
   "cell_type": "code",
   "execution_count": 43,
   "metadata": {},
   "outputs": [],
   "source": [
    "# L2 penalty to shrink coefficients without removing any features from the model\n",
    "penalty= 'l2'\n",
    "# Our classification problem is multinomial\n",
    "multi_class = 'multinomial'\n",
    "# Use lbfgs for L2 penalty and multinomial classes\n",
    "solver = 'lbfgs'\n",
    "# Max iteration = 1000\n",
    "max_iter = 1000"
   ]
  },
  {
   "cell_type": "code",
   "execution_count": 44,
   "metadata": {},
   "outputs": [],
   "source": [
    "from sklearn.linear_model import LogisticRegression\n",
    "from sklearn import metrics\n",
    "from sklearn.metrics import classification_report, accuracy_score, confusion_matrix, precision_recall_fscore_support, precision_score, recall_score\n",
    "\n",
    "l2_model = LogisticRegression(random_state=123, penalty=penalty, multi_class=multi_class, solver=solver, max_iter=max_iter)"
   ]
  },
  {
   "cell_type": "code",
   "execution_count": 45,
   "metadata": {},
   "outputs": [
    {
     "data": {
      "text/html": [
       "<style>#sk-container-id-1 {color: black;background-color: white;}#sk-container-id-1 pre{padding: 0;}#sk-container-id-1 div.sk-toggleable {background-color: white;}#sk-container-id-1 label.sk-toggleable__label {cursor: pointer;display: block;width: 100%;margin-bottom: 0;padding: 0.3em;box-sizing: border-box;text-align: center;}#sk-container-id-1 label.sk-toggleable__label-arrow:before {content: \"▸\";float: left;margin-right: 0.25em;color: #696969;}#sk-container-id-1 label.sk-toggleable__label-arrow:hover:before {color: black;}#sk-container-id-1 div.sk-estimator:hover label.sk-toggleable__label-arrow:before {color: black;}#sk-container-id-1 div.sk-toggleable__content {max-height: 0;max-width: 0;overflow: hidden;text-align: left;background-color: #f0f8ff;}#sk-container-id-1 div.sk-toggleable__content pre {margin: 0.2em;color: black;border-radius: 0.25em;background-color: #f0f8ff;}#sk-container-id-1 input.sk-toggleable__control:checked~div.sk-toggleable__content {max-height: 200px;max-width: 100%;overflow: auto;}#sk-container-id-1 input.sk-toggleable__control:checked~label.sk-toggleable__label-arrow:before {content: \"▾\";}#sk-container-id-1 div.sk-estimator input.sk-toggleable__control:checked~label.sk-toggleable__label {background-color: #d4ebff;}#sk-container-id-1 div.sk-label input.sk-toggleable__control:checked~label.sk-toggleable__label {background-color: #d4ebff;}#sk-container-id-1 input.sk-hidden--visually {border: 0;clip: rect(1px 1px 1px 1px);clip: rect(1px, 1px, 1px, 1px);height: 1px;margin: -1px;overflow: hidden;padding: 0;position: absolute;width: 1px;}#sk-container-id-1 div.sk-estimator {font-family: monospace;background-color: #f0f8ff;border: 1px dotted black;border-radius: 0.25em;box-sizing: border-box;margin-bottom: 0.5em;}#sk-container-id-1 div.sk-estimator:hover {background-color: #d4ebff;}#sk-container-id-1 div.sk-parallel-item::after {content: \"\";width: 100%;border-bottom: 1px solid gray;flex-grow: 1;}#sk-container-id-1 div.sk-label:hover label.sk-toggleable__label {background-color: #d4ebff;}#sk-container-id-1 div.sk-serial::before {content: \"\";position: absolute;border-left: 1px solid gray;box-sizing: border-box;top: 0;bottom: 0;left: 50%;z-index: 0;}#sk-container-id-1 div.sk-serial {display: flex;flex-direction: column;align-items: center;background-color: white;padding-right: 0.2em;padding-left: 0.2em;position: relative;}#sk-container-id-1 div.sk-item {position: relative;z-index: 1;}#sk-container-id-1 div.sk-parallel {display: flex;align-items: stretch;justify-content: center;background-color: white;position: relative;}#sk-container-id-1 div.sk-item::before, #sk-container-id-1 div.sk-parallel-item::before {content: \"\";position: absolute;border-left: 1px solid gray;box-sizing: border-box;top: 0;bottom: 0;left: 50%;z-index: -1;}#sk-container-id-1 div.sk-parallel-item {display: flex;flex-direction: column;z-index: 1;position: relative;background-color: white;}#sk-container-id-1 div.sk-parallel-item:first-child::after {align-self: flex-end;width: 50%;}#sk-container-id-1 div.sk-parallel-item:last-child::after {align-self: flex-start;width: 50%;}#sk-container-id-1 div.sk-parallel-item:only-child::after {width: 0;}#sk-container-id-1 div.sk-dashed-wrapped {border: 1px dashed gray;margin: 0 0.4em 0.5em 0.4em;box-sizing: border-box;padding-bottom: 0.4em;background-color: white;}#sk-container-id-1 div.sk-label label {font-family: monospace;font-weight: bold;display: inline-block;line-height: 1.2em;}#sk-container-id-1 div.sk-label-container {text-align: center;}#sk-container-id-1 div.sk-container {/* jupyter's `normalize.less` sets `[hidden] { display: none; }` but bootstrap.min.css set `[hidden] { display: none !important; }` so we also need the `!important` here to be able to override the default hidden behavior on the sphinx rendered scikit-learn.org. See: https://github.com/scikit-learn/scikit-learn/issues/21755 */display: inline-block !important;position: relative;}#sk-container-id-1 div.sk-text-repr-fallback {display: none;}</style><div id=\"sk-container-id-1\" class=\"sk-top-container\"><div class=\"sk-text-repr-fallback\"><pre>LogisticRegression(max_iter=1000, multi_class=&#x27;multinomial&#x27;, random_state=123)</pre><b>In a Jupyter environment, please rerun this cell to show the HTML representation or trust the notebook. <br />On GitHub, the HTML representation is unable to render, please try loading this page with nbviewer.org.</b></div><div class=\"sk-container\" hidden><div class=\"sk-item\"><div class=\"sk-estimator sk-toggleable\"><input class=\"sk-toggleable__control sk-hidden--visually\" id=\"sk-estimator-id-1\" type=\"checkbox\" checked><label for=\"sk-estimator-id-1\" class=\"sk-toggleable__label sk-toggleable__label-arrow\">LogisticRegression</label><div class=\"sk-toggleable__content\"><pre>LogisticRegression(max_iter=1000, multi_class=&#x27;multinomial&#x27;, random_state=123)</pre></div></div></div></div></div>"
      ],
      "text/plain": [
       "LogisticRegression(max_iter=1000, multi_class='multinomial', random_state=123)"
      ]
     },
     "execution_count": 45,
     "metadata": {},
     "output_type": "execute_result"
    }
   ],
   "source": [
    "l2_model.fit(X_train, y_train)"
   ]
  },
  {
   "cell_type": "code",
   "execution_count": 46,
   "metadata": {},
   "outputs": [],
   "source": [
    "l2_preds = l2_model.predict(X_test)"
   ]
  },
  {
   "cell_type": "code",
   "execution_count": 47,
   "metadata": {},
   "outputs": [],
   "source": [
    "def evaluate_metrics(yt, yp):\n",
    "    results_pos = {}\n",
    "    results_pos['accuracy'] = accuracy_score(yt, yp)\n",
    "    precision, recall, f_beta, _ = precision_recall_fscore_support(yt, yp)\n",
    "    results_pos['recall'] = recall\n",
    "    results_pos['precision'] = precision\n",
    "    results_pos['f1score'] = f_beta\n",
    "    return results_pos"
   ]
  },
  {
   "cell_type": "code",
   "execution_count": 48,
   "metadata": {},
   "outputs": [
    {
     "data": {
      "text/plain": [
       "{'accuracy': 0.8125,\n",
       " 'recall': array([0.        , 0.22222222, 0.98039216]),\n",
       " 'precision': array([0.        , 1.        , 0.81967213]),\n",
       " 'f1score': array([0.        , 0.36363636, 0.89285714])}"
      ]
     },
     "execution_count": 48,
     "metadata": {},
     "output_type": "execute_result"
    }
   ],
   "source": [
    "evaluate_metrics(y_test, l2_preds)"
   ]
  },
  {
   "cell_type": "markdown",
   "metadata": {},
   "source": [
    "As we can see the acurracy si good 0.8 but the others metrics by clases is low specially in class 0 that is for the inbalance dataset, now we going to try we another model  to see if improve the range  \n",
    "\n",
    "the next model is the knn "
   ]
  },
  {
   "cell_type": "code",
   "execution_count": 52,
   "metadata": {},
   "outputs": [
    {
     "data": {
      "text/plain": [
       "{'accuracy': 0.609375,\n",
       " 'recall': array([0.        , 0.33333333, 0.70588235]),\n",
       " 'precision': array([0.        , 0.27272727, 0.7826087 ]),\n",
       " 'f1score': array([0.        , 0.3       , 0.74226804])}"
      ]
     },
     "execution_count": 52,
     "metadata": {},
     "output_type": "execute_result"
    }
   ],
   "source": [
    "from sklearn.neighbors import KNeighborsClassifier\n",
    "knn_model = KNeighborsClassifier(n_neighbors=2)\n",
    "knn_model.fit(X_train, y_train.values.ravel())\n",
    "preds = knn_model.predict(X_test)\n",
    "evaluate_metrics(y_test, preds)"
   ]
  },
  {
   "cell_type": "markdown",
   "metadata": {},
   "source": [
    "the accurcy in this model is lower also the other metrics suffer the same inbalance problem"
   ]
  },
  {
   "cell_type": "code",
   "execution_count": 56,
   "metadata": {},
   "outputs": [
    {
     "data": {
      "text/plain": [
       "<AxesSubplot:xlabel='StudentPerformance'>"
      ]
     },
     "execution_count": 56,
     "metadata": {},
     "output_type": "execute_result"
    },
    {
     "data": {
      "image/png": "[encoded data removed]",
      "text/plain": [
       "<Figure size 432x288 with 1 Axes>"
      ]
     },
     "metadata": {
      "needs_background": "light"
     },
     "output_type": "display_data"
    }
   ],
   "source": [
    "from imblearn.over_sampling import RandomOverSampler, SMOTE\n",
    "smote_sampler = SMOTE(random_state = 123)\n",
    "X_smo, y_smo = smote_sampler.fit_resample(X_train, y_train)\n",
    "y_smo.value_counts().plot.bar(color=['green', 'red','yellow'])"
   ]
  },
  {
   "cell_type": "code",
   "execution_count": 57,
   "metadata": {},
   "outputs": [
    {
     "data": {
      "text/plain": [
       "{'accuracy': 0.578125,\n",
       " 'recall': array([0.5       , 0.44444444, 0.60784314]),\n",
       " 'precision': array([0.2       , 0.25      , 0.81578947]),\n",
       " 'f1score': array([0.28571429, 0.32      , 0.69662921])}"
      ]
     },
     "execution_count": 57,
     "metadata": {},
     "output_type": "execute_result"
    }
   ],
   "source": [
    "knn_model.fit(X_smo, y_smo.values.ravel())\n",
    "preds = knn_model.predict(X_test)\n",
    "evaluate_metrics(y_test, preds)"
   ]
  },
  {
   "cell_type": "code",
   "execution_count": 58,
   "metadata": {},
   "outputs": [
    {
     "data": {
      "text/plain": [
       "{'accuracy': 0.828125,\n",
       " 'recall': array([0.5       , 0.88888889, 0.84313725]),\n",
       " 'precision': array([0.33333333, 0.66666667, 0.93478261]),\n",
       " 'f1score': array([0.4       , 0.76190476, 0.88659794])}"
      ]
     },
     "execution_count": 58,
     "metadata": {},
     "output_type": "execute_result"
    }
   ],
   "source": [
    "l2_model.fit(X_smo, y_smo)\n",
    "l2_preds = l2_model.predict(X_test)\n",
    "evaluate_metrics(y_test, l2_preds)"
   ]
  }
 ],
 "metadata": {
  "kernelspec": {
   "display_name": "Python 3.10.5 64-bit",
   "language": "python",
   "name": "python3"
  },
  "language_info": {
   "codemirror_mode": {
    "name": "ipython",
    "version": 3
   },
   "file_extension": ".py",
   "mimetype": "text/x-python",
   "name": "python",
   "nbconvert_exporter": "python",
   "pygments_lexer": "ipython3",
   "version": "3.10.5"
  },
  "orig_nbformat": 4,
  "vscode": {
   "interpreter": {
    "hash": "aee8b7b246df8f9039afb4144a1f6fd8d2ca17a180786b69acc140d282b71a49"
   }
  }
 },
 "nbformat": 4,
 "nbformat_minor": 2
}
